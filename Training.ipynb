{
 "cells": [
  {
   "cell_type": "code",
   "execution_count": 1,
   "metadata": {
    "ExecuteTime": {
     "end_time": "2020-08-20T16:26:49.315365Z",
     "start_time": "2020-08-20T16:26:49.207356Z"
    }
   },
   "outputs": [
    {
     "data": {
      "application/javascript": [
       "\n",
       "            setTimeout(function() {\n",
       "                var nbb_cell_id = 1;\n",
       "                var nbb_unformatted_code = \"%load_ext nb_black\";\n",
       "                var nbb_formatted_code = \"%load_ext nb_black\";\n",
       "                var nbb_cells = Jupyter.notebook.get_cells();\n",
       "                for (var i = 0; i < nbb_cells.length; ++i) {\n",
       "                    if (nbb_cells[i].input_prompt_number == nbb_cell_id) {\n",
       "                        if (nbb_cells[i].get_text() == nbb_unformatted_code) {\n",
       "                             nbb_cells[i].set_text(nbb_formatted_code);\n",
       "                        }\n",
       "                        break;\n",
       "                    }\n",
       "                }\n",
       "            }, 500);\n",
       "            "
      ],
      "text/plain": [
       "<IPython.core.display.Javascript object>"
      ]
     },
     "metadata": {},
     "output_type": "display_data"
    }
   ],
   "source": [
    "%load_ext nb_black"
   ]
  },
  {
   "cell_type": "code",
   "execution_count": 2,
   "metadata": {
    "ExecuteTime": {
     "end_time": "2020-08-20T16:26:51.586972Z",
     "start_time": "2020-08-20T16:26:49.728755Z"
    }
   },
   "outputs": [
    {
     "data": {
      "application/javascript": [
       "\n",
       "            setTimeout(function() {\n",
       "                var nbb_cell_id = 2;\n",
       "                var nbb_unformatted_code = \"from transformers import GPT2Model, GPT2Config\\nimport os\\nimport numpy as np\\nimport random\\nfrom devai.utils.ml import Config\\nfrom devai.dataloaders import (\\n    ItemList,\\n    SplitData,\\n    random_splitter,\\n    label_by_func,\\n    parent_labeler,\\n    CategoryProcessor,\\n    compose,\\n)\\nfrom devai.callbacks import (\\n    AvgStatsCallback,\\n    ProgressCallback,\\n    Recorder,\\n    CudaCallback,\\n    TrainStatsCallback,\\n    sched_1cycle,\\n    DebugCallback,\\n    Callback,\\n)\\nfrom devai.metrics import accuracy\\nfrom devai.optimizers import adam_opt\\nfrom devai import Path\\nfrom devai.basics import Learner, CancelTrainException\\nimport mimetypes\\nfrom PIL import Image\\nfrom functools import partial\\nimport torch\\nimport torchvision.transforms as transforms\\nimport torch.nn.functional as F\\nfrom torch import nn\\nimport mimetypes\\nimport matplotlib.pyplot as plt\\nfrom model import ResCNNEncoder, GPTDecoder\\nfrom tqdm import tqdm\";\n",
       "                var nbb_formatted_code = \"from transformers import GPT2Model, GPT2Config\\nimport os\\nimport numpy as np\\nimport random\\nfrom devai.utils.ml import Config\\nfrom devai.dataloaders import (\\n    ItemList,\\n    SplitData,\\n    random_splitter,\\n    label_by_func,\\n    parent_labeler,\\n    CategoryProcessor,\\n    compose,\\n)\\nfrom devai.callbacks import (\\n    AvgStatsCallback,\\n    ProgressCallback,\\n    Recorder,\\n    CudaCallback,\\n    TrainStatsCallback,\\n    sched_1cycle,\\n    DebugCallback,\\n    Callback,\\n)\\nfrom devai.metrics import accuracy\\nfrom devai.optimizers import adam_opt\\nfrom devai import Path\\nfrom devai.basics import Learner, CancelTrainException\\nimport mimetypes\\nfrom PIL import Image\\nfrom functools import partial\\nimport torch\\nimport torchvision.transforms as transforms\\nimport torch.nn.functional as F\\nfrom torch import nn\\nimport mimetypes\\nimport matplotlib.pyplot as plt\\nfrom model import ResCNNEncoder, GPTDecoder\\nfrom tqdm import tqdm\";\n",
       "                var nbb_cells = Jupyter.notebook.get_cells();\n",
       "                for (var i = 0; i < nbb_cells.length; ++i) {\n",
       "                    if (nbb_cells[i].input_prompt_number == nbb_cell_id) {\n",
       "                        if (nbb_cells[i].get_text() == nbb_unformatted_code) {\n",
       "                             nbb_cells[i].set_text(nbb_formatted_code);\n",
       "                        }\n",
       "                        break;\n",
       "                    }\n",
       "                }\n",
       "            }, 500);\n",
       "            "
      ],
      "text/plain": [
       "<IPython.core.display.Javascript object>"
      ]
     },
     "metadata": {},
     "output_type": "display_data"
    }
   ],
   "source": [
    "from transformers import GPT2Model, GPT2Config\n",
    "import os\n",
    "import numpy as np\n",
    "import random\n",
    "from devai.utils.ml import Config\n",
    "from devai.dataloaders import (\n",
    "    ItemList,\n",
    "    SplitData,\n",
    "    random_splitter,\n",
    "    label_by_func,\n",
    "    parent_labeler,\n",
    "    CategoryProcessor,\n",
    "    compose,\n",
    ")\n",
    "from devai.callbacks import (\n",
    "    AvgStatsCallback,\n",
    "    ProgressCallback,\n",
    "    Recorder,\n",
    "    CudaCallback,\n",
    "    TrainStatsCallback,\n",
    "    sched_1cycle,\n",
    "    DebugCallback,\n",
    "    Callback,\n",
    ")\n",
    "from devai.metrics import accuracy\n",
    "from devai.optimizers import adam_opt\n",
    "from devai import Path\n",
    "from devai.basics import Learner, CancelTrainException\n",
    "import mimetypes\n",
    "from PIL import Image\n",
    "from functools import partial\n",
    "import torch\n",
    "import torchvision.transforms as transforms\n",
    "import torch.nn.functional as F\n",
    "from torch import nn\n",
    "import mimetypes\n",
    "import matplotlib.pyplot as plt\n",
    "from model import ResCNNEncoder, GPTDecoder\n",
    "from tqdm import tqdm"
   ]
  },
  {
   "cell_type": "markdown",
   "metadata": {},
   "source": [
    "# Config"
   ]
  },
  {
   "cell_type": "code",
   "execution_count": 3,
   "metadata": {
    "ExecuteTime": {
     "end_time": "2020-08-20T16:26:51.600706Z",
     "start_time": "2020-08-20T16:26:51.589112Z"
    }
   },
   "outputs": [
    {
     "data": {
      "application/javascript": [
       "\n",
       "            setTimeout(function() {\n",
       "                var nbb_cell_id = 3;\n",
       "                var nbb_unformatted_code = \"config = Config(\\n    do_train=True,\\n    p_valid=0.3,\\n    res_size=224,\\n    num_classes=2,\\n    epochs=10,  # training epochs\\n    bs=4,\\n    max_lr=1e-3,\\n    phases=0.3,\\n    testing_pct=0.03,  # reduces the data to this percent if testing\\n    update_pct=0.5,\\n    load_weights=None,  # \\\"weights/crnn_1e3_10epc.pth\\\",\\n)\";\n",
       "                var nbb_formatted_code = \"config = Config(\\n    do_train=True,\\n    p_valid=0.3,\\n    res_size=224,\\n    num_classes=2,\\n    epochs=10,  # training epochs\\n    bs=4,\\n    max_lr=1e-3,\\n    phases=0.3,\\n    testing_pct=0.03,  # reduces the data to this percent if testing\\n    update_pct=0.5,\\n    load_weights=None,  # \\\"weights/crnn_1e3_10epc.pth\\\",\\n)\";\n",
       "                var nbb_cells = Jupyter.notebook.get_cells();\n",
       "                for (var i = 0; i < nbb_cells.length; ++i) {\n",
       "                    if (nbb_cells[i].input_prompt_number == nbb_cell_id) {\n",
       "                        if (nbb_cells[i].get_text() == nbb_unformatted_code) {\n",
       "                             nbb_cells[i].set_text(nbb_formatted_code);\n",
       "                        }\n",
       "                        break;\n",
       "                    }\n",
       "                }\n",
       "            }, 500);\n",
       "            "
      ],
      "text/plain": [
       "<IPython.core.display.Javascript object>"
      ]
     },
     "metadata": {},
     "output_type": "display_data"
    }
   ],
   "source": [
    "config = Config(\n",
    "    do_train=True,\n",
    "    p_valid=0.3,\n",
    "    res_size=224,\n",
    "    num_classes=2,\n",
    "    epochs=10,  # training epochs\n",
    "    bs=4,\n",
    "    max_lr=1e-3,\n",
    "    phases=0.3,\n",
    "    testing_pct=0.03,  # reduces the data to this percent if testing\n",
    "    update_pct=0.5,\n",
    "    load_weights=None,  # \"weights/crnn_1e3_10epc.pth\",\n",
    ")"
   ]
  },
  {
   "cell_type": "markdown",
   "metadata": {
    "ExecuteTime": {
     "end_time": "2020-08-12T15:30:43.897854Z",
     "start_time": "2020-08-12T15:30:43.885403Z"
    }
   },
   "source": [
    "# Dataloaders"
   ]
  },
  {
   "cell_type": "code",
   "execution_count": 4,
   "metadata": {
    "ExecuteTime": {
     "end_time": "2020-08-20T16:26:51.618415Z",
     "start_time": "2020-08-20T16:26:51.603214Z"
    }
   },
   "outputs": [
    {
     "data": {
      "application/javascript": [
       "\n",
       "            setTimeout(function() {\n",
       "                var nbb_cell_id = 4;\n",
       "                var nbb_unformatted_code = \"image_extensions = set(\\n    k for k, v in mimetypes.types_map.items() if v.startswith(\\\"image/\\\")\\n)\\ndatasets = [\\\"surv\\\", \\\"hockey\\\", \\\"movies\\\"]\\nexclude = [\\\"data\\\", \\\"fight\\\", \\\"nofight\\\", \\\"source_data\\\"] + datasets\\n\\n\\ndef show_image(im, figsize=(3, 3)):\\n    plt.figure(figsize=figsize)\\n    plt.axis(\\\"off\\\")\\n    plt.imshow(im.permute(1, 2, 0))\";\n",
       "                var nbb_formatted_code = \"image_extensions = set(\\n    k for k, v in mimetypes.types_map.items() if v.startswith(\\\"image/\\\")\\n)\\ndatasets = [\\\"surv\\\", \\\"hockey\\\", \\\"movies\\\"]\\nexclude = [\\\"data\\\", \\\"fight\\\", \\\"nofight\\\", \\\"source_data\\\"] + datasets\\n\\n\\ndef show_image(im, figsize=(3, 3)):\\n    plt.figure(figsize=figsize)\\n    plt.axis(\\\"off\\\")\\n    plt.imshow(im.permute(1, 2, 0))\";\n",
       "                var nbb_cells = Jupyter.notebook.get_cells();\n",
       "                for (var i = 0; i < nbb_cells.length; ++i) {\n",
       "                    if (nbb_cells[i].input_prompt_number == nbb_cell_id) {\n",
       "                        if (nbb_cells[i].get_text() == nbb_unformatted_code) {\n",
       "                             nbb_cells[i].set_text(nbb_formatted_code);\n",
       "                        }\n",
       "                        break;\n",
       "                    }\n",
       "                }\n",
       "            }, 500);\n",
       "            "
      ],
      "text/plain": [
       "<IPython.core.display.Javascript object>"
      ]
     },
     "metadata": {},
     "output_type": "display_data"
    }
   ],
   "source": [
    "image_extensions = set(\n",
    "    k for k, v in mimetypes.types_map.items() if v.startswith(\"image/\")\n",
    ")\n",
    "datasets = [\"surv\", \"hockey\", \"movies\"]\n",
    "exclude = [\"data\", \"fight\", \"nofight\", \"source_data\"] + datasets\n",
    "\n",
    "\n",
    "def show_image(im, figsize=(3, 3)):\n",
    "    plt.figure(figsize=figsize)\n",
    "    plt.axis(\"off\")\n",
    "    plt.imshow(im.permute(1, 2, 0))"
   ]
  },
  {
   "cell_type": "code",
   "execution_count": 5,
   "metadata": {
    "ExecuteTime": {
     "end_time": "2020-08-20T16:26:51.654109Z",
     "start_time": "2020-08-20T16:26:51.620806Z"
    }
   },
   "outputs": [
    {
     "data": {
      "application/javascript": [
       "\n",
       "            setTimeout(function() {\n",
       "                var nbb_cell_id = 5;\n",
       "                var nbb_unformatted_code = \"def get_folders(data_path, **kwargs):\\n    data_path = Path(data_path)\\n    all_files = data_path.ls(**kwargs)\\n    image_folders = [f for f in all_files if f.is_dir()]\\n    return image_folders\\n\\n\\nclass ImageFolderList(ItemList):\\n    @classmethod\\n    def from_files(\\n        cls, path, extensions=None, recursive=True, include=None, exclude=None, **kwargs\\n    ):\\n        return cls(\\n            get_folders(path, recursive=recursive, include=include, exclude=exclude),\\n            path,\\n            **kwargs\\n        )\\n\\n    @staticmethod\\n    def sample_images(len_frames, n):\\n        sample_idxs = set()\\n        if len_frames <= n:\\n            return list(range(0, len_frames))\\n            raise ValueError(\\\"We got a problem\\\")\\n        while len(sample_idxs) < n:\\n            sample_idxs.add(random.randint(0, len_frames - 1))\\n        return sample_idxs\\n\\n    def _get(self, fn):\\n        frames = fn.ls(include=image_extensions, extension_filtering=True)\\n        frames = [frames[i] for i in self.sample_images(len(frames), 5)]\\n        x = []\\n        for img in frames:\\n            img = Image.open(img)\\n            x.append(compose(img, self.tfms))\\n        return torch.stack(x, 0) if self.tfms else x\";\n",
       "                var nbb_formatted_code = \"def get_folders(data_path, **kwargs):\\n    data_path = Path(data_path)\\n    all_files = data_path.ls(**kwargs)\\n    image_folders = [f for f in all_files if f.is_dir()]\\n    return image_folders\\n\\n\\nclass ImageFolderList(ItemList):\\n    @classmethod\\n    def from_files(\\n        cls, path, extensions=None, recursive=True, include=None, exclude=None, **kwargs\\n    ):\\n        return cls(\\n            get_folders(path, recursive=recursive, include=include, exclude=exclude),\\n            path,\\n            **kwargs\\n        )\\n\\n    @staticmethod\\n    def sample_images(len_frames, n):\\n        sample_idxs = set()\\n        if len_frames <= n:\\n            return list(range(0, len_frames))\\n            raise ValueError(\\\"We got a problem\\\")\\n        while len(sample_idxs) < n:\\n            sample_idxs.add(random.randint(0, len_frames - 1))\\n        return sample_idxs\\n\\n    def _get(self, fn):\\n        frames = fn.ls(include=image_extensions, extension_filtering=True)\\n        frames = [frames[i] for i in self.sample_images(len(frames), 5)]\\n        x = []\\n        for img in frames:\\n            img = Image.open(img)\\n            x.append(compose(img, self.tfms))\\n        return torch.stack(x, 0) if self.tfms else x\";\n",
       "                var nbb_cells = Jupyter.notebook.get_cells();\n",
       "                for (var i = 0; i < nbb_cells.length; ++i) {\n",
       "                    if (nbb_cells[i].input_prompt_number == nbb_cell_id) {\n",
       "                        if (nbb_cells[i].get_text() == nbb_unformatted_code) {\n",
       "                             nbb_cells[i].set_text(nbb_formatted_code);\n",
       "                        }\n",
       "                        break;\n",
       "                    }\n",
       "                }\n",
       "            }, 500);\n",
       "            "
      ],
      "text/plain": [
       "<IPython.core.display.Javascript object>"
      ]
     },
     "metadata": {},
     "output_type": "display_data"
    }
   ],
   "source": [
    "def get_folders(data_path, **kwargs):\n",
    "    data_path = Path(data_path)\n",
    "    all_files = data_path.ls(**kwargs)\n",
    "    image_folders = [f for f in all_files if f.is_dir()]\n",
    "    return image_folders\n",
    "\n",
    "\n",
    "class ImageFolderList(ItemList):\n",
    "    @classmethod\n",
    "    def from_files(\n",
    "        cls, path, extensions=None, recursive=True, include=None, exclude=None, **kwargs\n",
    "    ):\n",
    "        return cls(\n",
    "            get_folders(path, recursive=recursive, include=include, exclude=exclude),\n",
    "            path,\n",
    "            **kwargs\n",
    "        )\n",
    "\n",
    "    @staticmethod\n",
    "    def sample_images(len_frames, n):\n",
    "        sample_idxs = set()\n",
    "        if len_frames <= n:\n",
    "            return list(range(0, len_frames))\n",
    "            raise ValueError(\"We got a problem\")\n",
    "        while len(sample_idxs) < n:\n",
    "            sample_idxs.add(random.randint(0, len_frames - 1))\n",
    "        return sample_idxs\n",
    "\n",
    "    def _get(self, fn):\n",
    "        frames = fn.ls(include=image_extensions, extension_filtering=True)\n",
    "        frames = [frames[i] for i in self.sample_images(len(frames), 5)]\n",
    "        x = []\n",
    "        for img in frames:\n",
    "            img = Image.open(img)\n",
    "            x.append(compose(img, self.tfms))\n",
    "        return torch.stack(x, 0) if self.tfms else x"
   ]
  },
  {
   "cell_type": "code",
   "execution_count": 6,
   "metadata": {
    "ExecuteTime": {
     "end_time": "2020-08-20T16:26:51.680832Z",
     "start_time": "2020-08-20T16:26:51.656121Z"
    }
   },
   "outputs": [
    {
     "data": {
      "application/javascript": [
       "\n",
       "            setTimeout(function() {\n",
       "                var nbb_cell_id = 6;\n",
       "                var nbb_unformatted_code = \"# sample images # done!\\n# make rgb\\nclass Transform:\\n    _order = 0\\n\\n\\ndef make_rgb(item):\\n    return item.convert(\\\"RGB\\\")\\n\\n\\n# Resize\\nclass ResizeFixed(Transform):\\n    _order = 10\\n\\n    def __init__(self, size):\\n        if isinstance(size, int):\\n            size = (size, size)\\n        self.size = size\\n\\n    def __call__(self, item):\\n        return item.resize(self.size, PIL.Image.BILINEAR)\\n\\n\\n# etc?\\ndef to_byte_tensor(item):\\n    res = torch.ByteTensor(torch.ByteStorage.from_buffer(item.tobytes()))\\n    w, h = item.size\\n    return res.view(h, w, -1).permute(2, 0, 1)\\n\\n\\nto_byte_tensor._order = 20\\n\\n\\ndef to_float_tensor(item):\\n    return item.float().div_(255.0)\\n\\n\\nto_float_tensor._order = 30\";\n",
       "                var nbb_formatted_code = \"# sample images # done!\\n# make rgb\\nclass Transform:\\n    _order = 0\\n\\n\\ndef make_rgb(item):\\n    return item.convert(\\\"RGB\\\")\\n\\n\\n# Resize\\nclass ResizeFixed(Transform):\\n    _order = 10\\n\\n    def __init__(self, size):\\n        if isinstance(size, int):\\n            size = (size, size)\\n        self.size = size\\n\\n    def __call__(self, item):\\n        return item.resize(self.size, PIL.Image.BILINEAR)\\n\\n\\n# etc?\\ndef to_byte_tensor(item):\\n    res = torch.ByteTensor(torch.ByteStorage.from_buffer(item.tobytes()))\\n    w, h = item.size\\n    return res.view(h, w, -1).permute(2, 0, 1)\\n\\n\\nto_byte_tensor._order = 20\\n\\n\\ndef to_float_tensor(item):\\n    return item.float().div_(255.0)\\n\\n\\nto_float_tensor._order = 30\";\n",
       "                var nbb_cells = Jupyter.notebook.get_cells();\n",
       "                for (var i = 0; i < nbb_cells.length; ++i) {\n",
       "                    if (nbb_cells[i].input_prompt_number == nbb_cell_id) {\n",
       "                        if (nbb_cells[i].get_text() == nbb_unformatted_code) {\n",
       "                             nbb_cells[i].set_text(nbb_formatted_code);\n",
       "                        }\n",
       "                        break;\n",
       "                    }\n",
       "                }\n",
       "            }, 500);\n",
       "            "
      ],
      "text/plain": [
       "<IPython.core.display.Javascript object>"
      ]
     },
     "metadata": {},
     "output_type": "display_data"
    }
   ],
   "source": [
    "# sample images # done!\n",
    "# make rgb\n",
    "class Transform:\n",
    "    _order = 0\n",
    "\n",
    "\n",
    "def make_rgb(item):\n",
    "    return item.convert(\"RGB\")\n",
    "\n",
    "\n",
    "# Resize\n",
    "class ResizeFixed(Transform):\n",
    "    _order = 10\n",
    "\n",
    "    def __init__(self, size):\n",
    "        if isinstance(size, int):\n",
    "            size = (size, size)\n",
    "        self.size = size\n",
    "\n",
    "    def __call__(self, item):\n",
    "        return item.resize(self.size, PIL.Image.BILINEAR)\n",
    "\n",
    "\n",
    "# etc?\n",
    "def to_byte_tensor(item):\n",
    "    res = torch.ByteTensor(torch.ByteStorage.from_buffer(item.tobytes()))\n",
    "    w, h = item.size\n",
    "    return res.view(h, w, -1).permute(2, 0, 1)\n",
    "\n",
    "\n",
    "to_byte_tensor._order = 20\n",
    "\n",
    "\n",
    "def to_float_tensor(item):\n",
    "    return item.float().div_(255.0)\n",
    "\n",
    "\n",
    "to_float_tensor._order = 30"
   ]
  },
  {
   "cell_type": "code",
   "execution_count": 7,
   "metadata": {
    "ExecuteTime": {
     "end_time": "2020-08-20T16:26:51.695256Z",
     "start_time": "2020-08-20T16:26:51.682767Z"
    }
   },
   "outputs": [
    {
     "data": {
      "application/javascript": [
       "\n",
       "            setTimeout(function() {\n",
       "                var nbb_cell_id = 7;\n",
       "                var nbb_unformatted_code = \"tfms = [make_rgb, ResizeFixed(config.res_size), to_byte_tensor, to_float_tensor]\\ntfms_tv = [\\n    transforms.Resize([config.res_size, config.res_size]),\\n    transforms.ToTensor(),\\n    transforms.Normalize(mean=[0.485, 0.456, 0.406], std=[0.229, 0.224, 0.225]),\\n]\";\n",
       "                var nbb_formatted_code = \"tfms = [make_rgb, ResizeFixed(config.res_size), to_byte_tensor, to_float_tensor]\\ntfms_tv = [\\n    transforms.Resize([config.res_size, config.res_size]),\\n    transforms.ToTensor(),\\n    transforms.Normalize(mean=[0.485, 0.456, 0.406], std=[0.229, 0.224, 0.225]),\\n]\";\n",
       "                var nbb_cells = Jupyter.notebook.get_cells();\n",
       "                for (var i = 0; i < nbb_cells.length; ++i) {\n",
       "                    if (nbb_cells[i].input_prompt_number == nbb_cell_id) {\n",
       "                        if (nbb_cells[i].get_text() == nbb_unformatted_code) {\n",
       "                             nbb_cells[i].set_text(nbb_formatted_code);\n",
       "                        }\n",
       "                        break;\n",
       "                    }\n",
       "                }\n",
       "            }, 500);\n",
       "            "
      ],
      "text/plain": [
       "<IPython.core.display.Javascript object>"
      ]
     },
     "metadata": {},
     "output_type": "display_data"
    }
   ],
   "source": [
    "tfms = [make_rgb, ResizeFixed(config.res_size), to_byte_tensor, to_float_tensor]\n",
    "tfms_tv = [\n",
    "    transforms.Resize([config.res_size, config.res_size]),\n",
    "    transforms.ToTensor(),\n",
    "    transforms.Normalize(mean=[0.485, 0.456, 0.406], std=[0.229, 0.224, 0.225]),\n",
    "]"
   ]
  },
  {
   "cell_type": "code",
   "execution_count": 8,
   "metadata": {
    "ExecuteTime": {
     "end_time": "2020-08-20T16:26:53.069330Z",
     "start_time": "2020-08-20T16:26:51.697603Z"
    }
   },
   "outputs": [
    {
     "data": {
      "application/javascript": [
       "\n",
       "            setTimeout(function() {\n",
       "                var nbb_cell_id = 8;\n",
       "                var nbb_unformatted_code = \"il = ImageFolderList.from_files(\\\"data\\\", exclude=exclude, tfms=tfms_tv)\\nif config.testing_pct:\\n    random.shuffle(il.items)\\n    il = il.new(il.items[: round(len(il) * config.testing_pct)])\";\n",
       "                var nbb_formatted_code = \"il = ImageFolderList.from_files(\\\"data\\\", exclude=exclude, tfms=tfms_tv)\\nif config.testing_pct:\\n    random.shuffle(il.items)\\n    il = il.new(il.items[: round(len(il) * config.testing_pct)])\";\n",
       "                var nbb_cells = Jupyter.notebook.get_cells();\n",
       "                for (var i = 0; i < nbb_cells.length; ++i) {\n",
       "                    if (nbb_cells[i].input_prompt_number == nbb_cell_id) {\n",
       "                        if (nbb_cells[i].get_text() == nbb_unformatted_code) {\n",
       "                             nbb_cells[i].set_text(nbb_formatted_code);\n",
       "                        }\n",
       "                        break;\n",
       "                    }\n",
       "                }\n",
       "            }, 500);\n",
       "            "
      ],
      "text/plain": [
       "<IPython.core.display.Javascript object>"
      ]
     },
     "metadata": {},
     "output_type": "display_data"
    }
   ],
   "source": [
    "il = ImageFolderList.from_files(\"data\", exclude=exclude, tfms=tfms_tv)\n",
    "if config.testing_pct:\n",
    "    random.shuffle(il.items)\n",
    "    il = il.new(il.items[: round(len(il) * config.testing_pct)])"
   ]
  },
  {
   "cell_type": "code",
   "execution_count": 9,
   "metadata": {
    "ExecuteTime": {
     "end_time": "2020-08-20T16:26:53.158645Z",
     "start_time": "2020-08-20T16:26:53.072390Z"
    }
   },
   "outputs": [
    {
     "name": "stderr",
     "output_type": "stream",
     "text": [
      "Clipping input data to the valid range for imshow with RGB data ([0..1] for floats or [0..255] for integers).\n"
     ]
    },
    {
     "data": {
      "image/png": "[encoded data removed]",
      "text/plain": [
       "<Figure size 216x216 with 1 Axes>"
      ]
     },
     "metadata": {
      "needs_background": "light"
     },
     "output_type": "display_data"
    },
    {
     "data": {
      "application/javascript": [
       "\n",
       "            setTimeout(function() {\n",
       "                var nbb_cell_id = 9;\n",
       "                var nbb_unformatted_code = \"show_image(il[10][3])\";\n",
       "                var nbb_formatted_code = \"show_image(il[10][3])\";\n",
       "                var nbb_cells = Jupyter.notebook.get_cells();\n",
       "                for (var i = 0; i < nbb_cells.length; ++i) {\n",
       "                    if (nbb_cells[i].input_prompt_number == nbb_cell_id) {\n",
       "                        if (nbb_cells[i].get_text() == nbb_unformatted_code) {\n",
       "                             nbb_cells[i].set_text(nbb_formatted_code);\n",
       "                        }\n",
       "                        break;\n",
       "                    }\n",
       "                }\n",
       "            }, 500);\n",
       "            "
      ],
      "text/plain": [
       "<IPython.core.display.Javascript object>"
      ]
     },
     "metadata": {},
     "output_type": "display_data"
    }
   ],
   "source": [
    "show_image(il[10][3])"
   ]
  },
  {
   "cell_type": "code",
   "execution_count": 10,
   "metadata": {
    "ExecuteTime": {
     "end_time": "2020-08-20T16:26:53.171622Z",
     "start_time": "2020-08-20T16:26:53.162051Z"
    }
   },
   "outputs": [
    {
     "data": {
      "application/javascript": [
       "\n",
       "            setTimeout(function() {\n",
       "                var nbb_cell_id = 10;\n",
       "                var nbb_unformatted_code = \"random_splitter_func = partial(random_splitter, p_valid=config.p_valid)\\nsd = SplitData.split_by_func(il, random_splitter_func)\";\n",
       "                var nbb_formatted_code = \"random_splitter_func = partial(random_splitter, p_valid=config.p_valid)\\nsd = SplitData.split_by_func(il, random_splitter_func)\";\n",
       "                var nbb_cells = Jupyter.notebook.get_cells();\n",
       "                for (var i = 0; i < nbb_cells.length; ++i) {\n",
       "                    if (nbb_cells[i].input_prompt_number == nbb_cell_id) {\n",
       "                        if (nbb_cells[i].get_text() == nbb_unformatted_code) {\n",
       "                             nbb_cells[i].set_text(nbb_formatted_code);\n",
       "                        }\n",
       "                        break;\n",
       "                    }\n",
       "                }\n",
       "            }, 500);\n",
       "            "
      ],
      "text/plain": [
       "<IPython.core.display.Javascript object>"
      ]
     },
     "metadata": {},
     "output_type": "display_data"
    }
   ],
   "source": [
    "random_splitter_func = partial(random_splitter, p_valid=config.p_valid)\n",
    "sd = SplitData.split_by_func(il, random_splitter_func)"
   ]
  },
  {
   "cell_type": "code",
   "execution_count": 11,
   "metadata": {
    "ExecuteTime": {
     "end_time": "2020-08-20T16:26:53.183788Z",
     "start_time": "2020-08-20T16:26:53.174036Z"
    }
   },
   "outputs": [
    {
     "data": {
      "application/javascript": [
       "\n",
       "            setTimeout(function() {\n",
       "                var nbb_cell_id = 11;\n",
       "                var nbb_unformatted_code = \"ll = label_by_func(sd, parent_labeler, proc_y=CategoryProcessor())\";\n",
       "                var nbb_formatted_code = \"ll = label_by_func(sd, parent_labeler, proc_y=CategoryProcessor())\";\n",
       "                var nbb_cells = Jupyter.notebook.get_cells();\n",
       "                for (var i = 0; i < nbb_cells.length; ++i) {\n",
       "                    if (nbb_cells[i].input_prompt_number == nbb_cell_id) {\n",
       "                        if (nbb_cells[i].get_text() == nbb_unformatted_code) {\n",
       "                             nbb_cells[i].set_text(nbb_formatted_code);\n",
       "                        }\n",
       "                        break;\n",
       "                    }\n",
       "                }\n",
       "            }, 500);\n",
       "            "
      ],
      "text/plain": [
       "<IPython.core.display.Javascript object>"
      ]
     },
     "metadata": {},
     "output_type": "display_data"
    }
   ],
   "source": [
    "ll = label_by_func(sd, parent_labeler, proc_y=CategoryProcessor())"
   ]
  },
  {
   "cell_type": "code",
   "execution_count": 12,
   "metadata": {
    "ExecuteTime": {
     "end_time": "2020-08-20T16:26:53.192304Z",
     "start_time": "2020-08-20T16:26:53.185845Z"
    }
   },
   "outputs": [
    {
     "data": {
      "application/javascript": [
       "\n",
       "            setTimeout(function() {\n",
       "                var nbb_cell_id = 12;\n",
       "                var nbb_unformatted_code = \"# https://discuss.pytorch.org/t/error-expected-more-than-1-value-per-channel-when-training/26274/3\\ndata = ll.to_databunch(config.bs, drop_last=True)\";\n",
       "                var nbb_formatted_code = \"# https://discuss.pytorch.org/t/error-expected-more-than-1-value-per-channel-when-training/26274/3\\ndata = ll.to_databunch(config.bs, drop_last=True)\";\n",
       "                var nbb_cells = Jupyter.notebook.get_cells();\n",
       "                for (var i = 0; i < nbb_cells.length; ++i) {\n",
       "                    if (nbb_cells[i].input_prompt_number == nbb_cell_id) {\n",
       "                        if (nbb_cells[i].get_text() == nbb_unformatted_code) {\n",
       "                             nbb_cells[i].set_text(nbb_formatted_code);\n",
       "                        }\n",
       "                        break;\n",
       "                    }\n",
       "                }\n",
       "            }, 500);\n",
       "            "
      ],
      "text/plain": [
       "<IPython.core.display.Javascript object>"
      ]
     },
     "metadata": {},
     "output_type": "display_data"
    }
   ],
   "source": [
    "# https://discuss.pytorch.org/t/error-expected-more-than-1-value-per-channel-when-training/26274/3\n",
    "data = ll.to_databunch(config.bs, drop_last=True)"
   ]
  },
  {
   "cell_type": "markdown",
   "metadata": {},
   "source": [
    "# Model"
   ]
  },
  {
   "cell_type": "code",
   "execution_count": 13,
   "metadata": {
    "ExecuteTime": {
     "end_time": "2020-08-20T16:26:53.212537Z",
     "start_time": "2020-08-20T16:26:53.194802Z"
    }
   },
   "outputs": [
    {
     "data": {
      "application/javascript": [
       "\n",
       "            setTimeout(function() {\n",
       "                var nbb_cell_id = 13;\n",
       "                var nbb_unformatted_code = \"class CGPTDecoder(nn.Module):\\n    def __init__(self, gpt_config, num_classes=2):\\n        super().__init__()\\n        self.gpt_config = gpt_config\\n        self.num_classes = num_classes\\n        self.cnn_encoder = ResCNNEncoder()\\n        self.gpt_decoder = GPTDecoder(gpt_config, num_classes=self.num_classes)\\n\\n    def forward(self, x):\\n        x = self.cnn_encoder(x)\\n        x = self.gpt_decoder(x)\\n        return x\";\n",
       "                var nbb_formatted_code = \"class CGPTDecoder(nn.Module):\\n    def __init__(self, gpt_config, num_classes=2):\\n        super().__init__()\\n        self.gpt_config = gpt_config\\n        self.num_classes = num_classes\\n        self.cnn_encoder = ResCNNEncoder()\\n        self.gpt_decoder = GPTDecoder(gpt_config, num_classes=self.num_classes)\\n\\n    def forward(self, x):\\n        x = self.cnn_encoder(x)\\n        x = self.gpt_decoder(x)\\n        return x\";\n",
       "                var nbb_cells = Jupyter.notebook.get_cells();\n",
       "                for (var i = 0; i < nbb_cells.length; ++i) {\n",
       "                    if (nbb_cells[i].input_prompt_number == nbb_cell_id) {\n",
       "                        if (nbb_cells[i].get_text() == nbb_unformatted_code) {\n",
       "                             nbb_cells[i].set_text(nbb_formatted_code);\n",
       "                        }\n",
       "                        break;\n",
       "                    }\n",
       "                }\n",
       "            }, 500);\n",
       "            "
      ],
      "text/plain": [
       "<IPython.core.display.Javascript object>"
      ]
     },
     "metadata": {},
     "output_type": "display_data"
    }
   ],
   "source": [
    "class CGPTDecoder(nn.Module):\n",
    "    def __init__(self, gpt_config, num_classes=2):\n",
    "        super().__init__()\n",
    "        self.gpt_config = gpt_config\n",
    "        self.num_classes = num_classes\n",
    "        self.cnn_encoder = ResCNNEncoder()\n",
    "        self.gpt_decoder = GPTDecoder(gpt_config, num_classes=self.num_classes)\n",
    "\n",
    "    def forward(self, x):\n",
    "        x = self.cnn_encoder(x)\n",
    "        x = self.gpt_decoder(x)\n",
    "        return x"
   ]
  },
  {
   "cell_type": "code",
   "execution_count": 14,
   "metadata": {
    "ExecuteTime": {
     "end_time": "2020-08-20T16:26:54.918851Z",
     "start_time": "2020-08-20T16:26:53.321300Z"
    }
   },
   "outputs": [
    {
     "data": {
      "application/javascript": [
       "\n",
       "            setTimeout(function() {\n",
       "                var nbb_cell_id = 14;\n",
       "                var nbb_unformatted_code = \"gpt_config = GPT2Config(vocab_size=2, use_cache=False, n_embd=300, n_head=6)\\ngpt_model = CGPTDecoder(gpt_config)\";\n",
       "                var nbb_formatted_code = \"gpt_config = GPT2Config(vocab_size=2, use_cache=False, n_embd=300, n_head=6)\\ngpt_model = CGPTDecoder(gpt_config)\";\n",
       "                var nbb_cells = Jupyter.notebook.get_cells();\n",
       "                for (var i = 0; i < nbb_cells.length; ++i) {\n",
       "                    if (nbb_cells[i].input_prompt_number == nbb_cell_id) {\n",
       "                        if (nbb_cells[i].get_text() == nbb_unformatted_code) {\n",
       "                             nbb_cells[i].set_text(nbb_formatted_code);\n",
       "                        }\n",
       "                        break;\n",
       "                    }\n",
       "                }\n",
       "            }, 500);\n",
       "            "
      ],
      "text/plain": [
       "<IPython.core.display.Javascript object>"
      ]
     },
     "metadata": {},
     "output_type": "display_data"
    }
   ],
   "source": [
    "gpt_config = GPT2Config(vocab_size=2, use_cache=False, n_embd=300, n_head=6)\n",
    "gpt_model = CGPTDecoder(gpt_config)"
   ]
  },
  {
   "cell_type": "code",
   "execution_count": 15,
   "metadata": {
    "ExecuteTime": {
     "end_time": "2020-08-20T16:27:07.905039Z",
     "start_time": "2020-08-20T16:27:07.886491Z"
    }
   },
   "outputs": [
    {
     "data": {
      "application/javascript": [
       "\n",
       "            setTimeout(function() {\n",
       "                var nbb_cell_id = 15;\n",
       "                var nbb_unformatted_code = \"def keys_splitter(m, train, dont_train):\\n    def _keys_splitter(m, g1=[], g2=[]):\\n        \\\"\\\"\\\"\\n        g1 = trainable weights \\n        g2 = group which get a learning rate of 0\\n        \\\"\\\"\\\"\\n        l = dict(m.named_children()).keys()\\n        for k in l:\\n            p = getattr(m, k).parameters()\\n            if k in dont_train:\\n                g1 += p\\n            elif k in train:\\n                g2 += p\\n            else:\\n                for ll in m.children():\\n                    _keys_splitter(ll, g1, g2)\\n        return g1, g2\\n\\n    return _keys_splitter(m)\";\n",
       "                var nbb_formatted_code = \"def keys_splitter(m, train, dont_train):\\n    def _keys_splitter(m, g1=[], g2=[]):\\n        \\\"\\\"\\\"\\n        g1 = trainable weights \\n        g2 = group which get a learning rate of 0\\n        \\\"\\\"\\\"\\n        l = dict(m.named_children()).keys()\\n        for k in l:\\n            p = getattr(m, k).parameters()\\n            if k in dont_train:\\n                g1 += p\\n            elif k in train:\\n                g2 += p\\n            else:\\n                for ll in m.children():\\n                    _keys_splitter(ll, g1, g2)\\n        return g1, g2\\n\\n    return _keys_splitter(m)\";\n",
       "                var nbb_cells = Jupyter.notebook.get_cells();\n",
       "                for (var i = 0; i < nbb_cells.length; ++i) {\n",
       "                    if (nbb_cells[i].input_prompt_number == nbb_cell_id) {\n",
       "                        if (nbb_cells[i].get_text() == nbb_unformatted_code) {\n",
       "                             nbb_cells[i].set_text(nbb_formatted_code);\n",
       "                        }\n",
       "                        break;\n",
       "                    }\n",
       "                }\n",
       "            }, 500);\n",
       "            "
      ],
      "text/plain": [
       "<IPython.core.display.Javascript object>"
      ]
     },
     "metadata": {},
     "output_type": "display_data"
    }
   ],
   "source": [
    "def keys_splitter(m, train, dont_train):\n",
    "    def _keys_splitter(m, g1=[], g2=[]):\n",
    "        \"\"\"\n",
    "        g1 = trainable weights \n",
    "        g2 = group which get a learning rate of 0\n",
    "        \"\"\"\n",
    "        l = dict(m.named_children()).keys()\n",
    "        for k in l:\n",
    "            p = getattr(m, k).parameters()\n",
    "            if k in dont_train:\n",
    "                g1 += p\n",
    "            elif k in train:\n",
    "                g2 += p\n",
    "            else:\n",
    "                for ll in m.children():\n",
    "                    _keys_splitter(ll, g1, g2)\n",
    "        return g1, g2\n",
    "\n",
    "    return _keys_splitter(m)"
   ]
  },
  {
   "cell_type": "code",
   "execution_count": 16,
   "metadata": {
    "ExecuteTime": {
     "end_time": "2020-08-20T16:27:53.151066Z",
     "start_time": "2020-08-20T16:27:53.133127Z"
    }
   },
   "outputs": [
    {
     "data": {
      "application/javascript": [
       "\n",
       "            setTimeout(function() {\n",
       "                var nbb_cell_id = 16;\n",
       "                var nbb_unformatted_code = \"crnn_train = [\\\"fc1\\\", \\\"fc2\\\", \\\"fc3\\\", \\\"bn1\\\", \\\"bn2\\\", \\\"rnn_decoder\\\"]\\ntfmr_train = [\\n    \\\"fc1\\\",\\n    \\\"fc2\\\",\\n    \\\"fc3\\\",\\n    \\\"bn1\\\",\\n    \\\"bn2\\\",\\n    \\\"transformer\\\",\\n    \\\"query_pos\\\",\\n    \\\"pos_encoder\\\",\\n]\\ngpt_train = [\\n    \\\"fc1\\\",\\n    \\\"fc2\\\",\\n    \\\"fc3\\\",\\n    \\\"bn1\\\",\\n    \\\"bn2\\\",\\n    \\\"gpt_decoder\\\",\\n]\\ndont_train = [\\\"resnet\\\"]\\ncrnn_splitter = partial(keys_splitter, train=crnn_train, dont_train=dont_train)\\ntfmr_splitter = partial(keys_splitter, train=tfmr_train, dont_train=dont_train)\\ngpt_splitter = partial(keys_splitter, train=gpt_train, dont_train=dont_train)\";\n",
       "                var nbb_formatted_code = \"crnn_train = [\\\"fc1\\\", \\\"fc2\\\", \\\"fc3\\\", \\\"bn1\\\", \\\"bn2\\\", \\\"rnn_decoder\\\"]\\ntfmr_train = [\\n    \\\"fc1\\\",\\n    \\\"fc2\\\",\\n    \\\"fc3\\\",\\n    \\\"bn1\\\",\\n    \\\"bn2\\\",\\n    \\\"transformer\\\",\\n    \\\"query_pos\\\",\\n    \\\"pos_encoder\\\",\\n]\\ngpt_train = [\\n    \\\"fc1\\\",\\n    \\\"fc2\\\",\\n    \\\"fc3\\\",\\n    \\\"bn1\\\",\\n    \\\"bn2\\\",\\n    \\\"gpt_decoder\\\",\\n]\\ndont_train = [\\\"resnet\\\"]\\ncrnn_splitter = partial(keys_splitter, train=crnn_train, dont_train=dont_train)\\ntfmr_splitter = partial(keys_splitter, train=tfmr_train, dont_train=dont_train)\\ngpt_splitter = partial(keys_splitter, train=gpt_train, dont_train=dont_train)\";\n",
       "                var nbb_cells = Jupyter.notebook.get_cells();\n",
       "                for (var i = 0; i < nbb_cells.length; ++i) {\n",
       "                    if (nbb_cells[i].input_prompt_number == nbb_cell_id) {\n",
       "                        if (nbb_cells[i].get_text() == nbb_unformatted_code) {\n",
       "                             nbb_cells[i].set_text(nbb_formatted_code);\n",
       "                        }\n",
       "                        break;\n",
       "                    }\n",
       "                }\n",
       "            }, 500);\n",
       "            "
      ],
      "text/plain": [
       "<IPython.core.display.Javascript object>"
      ]
     },
     "metadata": {},
     "output_type": "display_data"
    }
   ],
   "source": [
    "crnn_train = [\"fc1\", \"fc2\", \"fc3\", \"bn1\", \"bn2\", \"rnn_decoder\"]\n",
    "tfmr_train = [\n",
    "    \"fc1\",\n",
    "    \"fc2\",\n",
    "    \"fc3\",\n",
    "    \"bn1\",\n",
    "    \"bn2\",\n",
    "    \"transformer\",\n",
    "    \"query_pos\",\n",
    "    \"pos_encoder\",\n",
    "]\n",
    "gpt_train = [\n",
    "    \"fc1\",\n",
    "    \"fc2\",\n",
    "    \"fc3\",\n",
    "    \"bn1\",\n",
    "    \"bn2\",\n",
    "    \"gpt_decoder\",\n",
    "]\n",
    "dont_train = [\"resnet\"]\n",
    "crnn_splitter = partial(keys_splitter, train=crnn_train, dont_train=dont_train)\n",
    "tfmr_splitter = partial(keys_splitter, train=tfmr_train, dont_train=dont_train)\n",
    "gpt_splitter = partial(keys_splitter, train=gpt_train, dont_train=dont_train)"
   ]
  },
  {
   "cell_type": "code",
   "execution_count": 17,
   "metadata": {
    "ExecuteTime": {
     "end_time": "2020-08-20T16:27:58.741275Z",
     "start_time": "2020-08-20T16:27:58.729570Z"
    }
   },
   "outputs": [
    {
     "data": {
      "application/javascript": [
       "\n",
       "            setTimeout(function() {\n",
       "                var nbb_cell_id = 17;\n",
       "                var nbb_unformatted_code = \"cbfs = [partial(AvgStatsCallback, [accuracy]), ProgressCallback, Recorder]\\ndisc_lr_sched = sched_1cycle([0, config.max_lr], config.phases)\\nif torch.cuda.is_available():\\n    cbfs.append(CudaCallback)\\ncbfs.append(\\n    partial(\\n        TrainStatsCallback, config.update_pct, email=None\\n    )  # (\\\"zodiac21zone\\\", \\\"devkosal@gmail.com\\\"))\\n)\";\n",
       "                var nbb_formatted_code = \"cbfs = [partial(AvgStatsCallback, [accuracy]), ProgressCallback, Recorder]\\ndisc_lr_sched = sched_1cycle([0, config.max_lr], config.phases)\\nif torch.cuda.is_available():\\n    cbfs.append(CudaCallback)\\ncbfs.append(\\n    partial(\\n        TrainStatsCallback, config.update_pct, email=None\\n    )  # (\\\"zodiac21zone\\\", \\\"devkosal@gmail.com\\\"))\\n)\";\n",
       "                var nbb_cells = Jupyter.notebook.get_cells();\n",
       "                for (var i = 0; i < nbb_cells.length; ++i) {\n",
       "                    if (nbb_cells[i].input_prompt_number == nbb_cell_id) {\n",
       "                        if (nbb_cells[i].get_text() == nbb_unformatted_code) {\n",
       "                             nbb_cells[i].set_text(nbb_formatted_code);\n",
       "                        }\n",
       "                        break;\n",
       "                    }\n",
       "                }\n",
       "            }, 500);\n",
       "            "
      ],
      "text/plain": [
       "<IPython.core.display.Javascript object>"
      ]
     },
     "metadata": {},
     "output_type": "display_data"
    }
   ],
   "source": [
    "cbfs = [partial(AvgStatsCallback, [accuracy]), ProgressCallback, Recorder]\n",
    "disc_lr_sched = sched_1cycle([0, config.max_lr], config.phases)\n",
    "if torch.cuda.is_available():\n",
    "    cbfs.append(CudaCallback)\n",
    "cbfs.append(\n",
    "    partial(\n",
    "        TrainStatsCallback, config.update_pct, email=None\n",
    "    )  # (\"zodiac21zone\", \"devkosal@gmail.com\"))\n",
    ")"
   ]
  },
  {
   "cell_type": "code",
   "execution_count": 18,
   "metadata": {
    "ExecuteTime": {
     "end_time": "2020-08-20T16:28:18.027719Z",
     "start_time": "2020-08-20T16:28:18.021677Z"
    }
   },
   "outputs": [
    {
     "data": {
      "application/javascript": [
       "\n",
       "            setTimeout(function() {\n",
       "                var nbb_cell_id = 18;\n",
       "                var nbb_unformatted_code = \"model, splitter = gpt_model, gpt_splitter#crnn_model, crnn_splitter\";\n",
       "                var nbb_formatted_code = \"model, splitter = gpt_model, gpt_splitter  # crnn_model, crnn_splitter\";\n",
       "                var nbb_cells = Jupyter.notebook.get_cells();\n",
       "                for (var i = 0; i < nbb_cells.length; ++i) {\n",
       "                    if (nbb_cells[i].input_prompt_number == nbb_cell_id) {\n",
       "                        if (nbb_cells[i].get_text() == nbb_unformatted_code) {\n",
       "                             nbb_cells[i].set_text(nbb_formatted_code);\n",
       "                        }\n",
       "                        break;\n",
       "                    }\n",
       "                }\n",
       "            }, 500);\n",
       "            "
      ],
      "text/plain": [
       "<IPython.core.display.Javascript object>"
      ]
     },
     "metadata": {},
     "output_type": "display_data"
    }
   ],
   "source": [
    "model, splitter = gpt_model, gpt_splitter  # crnn_model, crnn_splitter"
   ]
  },
  {
   "cell_type": "code",
   "execution_count": 20,
   "metadata": {
    "ExecuteTime": {
     "end_time": "2020-08-20T16:28:33.955943Z",
     "start_time": "2020-08-20T16:28:33.945407Z"
    }
   },
   "outputs": [
    {
     "data": {
      "application/javascript": [
       "\n",
       "            setTimeout(function() {\n",
       "                var nbb_cell_id = 20;\n",
       "                var nbb_unformatted_code = \"learn = Learner(\\n    model,\\n    data,\\n    F.cross_entropy,\\n    lr=config.max_lr,\\n    cb_funcs=cbfs,\\n    splitter=splitter,\\n    opt_func=adam_opt(),\\n)\";\n",
       "                var nbb_formatted_code = \"learn = Learner(\\n    model,\\n    data,\\n    F.cross_entropy,\\n    lr=config.max_lr,\\n    cb_funcs=cbfs,\\n    splitter=splitter,\\n    opt_func=adam_opt(),\\n)\";\n",
       "                var nbb_cells = Jupyter.notebook.get_cells();\n",
       "                for (var i = 0; i < nbb_cells.length; ++i) {\n",
       "                    if (nbb_cells[i].input_prompt_number == nbb_cell_id) {\n",
       "                        if (nbb_cells[i].get_text() == nbb_unformatted_code) {\n",
       "                             nbb_cells[i].set_text(nbb_formatted_code);\n",
       "                        }\n",
       "                        break;\n",
       "                    }\n",
       "                }\n",
       "            }, 500);\n",
       "            "
      ],
      "text/plain": [
       "<IPython.core.display.Javascript object>"
      ]
     },
     "metadata": {},
     "output_type": "display_data"
    }
   ],
   "source": [
    "learn = Learner(\n",
    "    model,\n",
    "    data,\n",
    "    F.cross_entropy,\n",
    "    lr=config.max_lr,\n",
    "    cb_funcs=cbfs,\n",
    "    splitter=splitter,\n",
    "    opt_func=adam_opt(),\n",
    ")"
   ]
  },
  {
   "cell_type": "code",
   "execution_count": 21,
   "metadata": {
    "ExecuteTime": {
     "end_time": "2020-08-20T16:28:37.387936Z",
     "start_time": "2020-08-20T16:28:36.935275Z"
    }
   },
   "outputs": [
    {
     "data": {
      "application/javascript": [
       "\n",
       "            setTimeout(function() {\n",
       "                var nbb_cell_id = 21;\n",
       "                var nbb_unformatted_code = \"d1, d2 = gpt_splitter(model)\";\n",
       "                var nbb_formatted_code = \"d1, d2 = gpt_splitter(model)\";\n",
       "                var nbb_cells = Jupyter.notebook.get_cells();\n",
       "                for (var i = 0; i < nbb_cells.length; ++i) {\n",
       "                    if (nbb_cells[i].input_prompt_number == nbb_cell_id) {\n",
       "                        if (nbb_cells[i].get_text() == nbb_unformatted_code) {\n",
       "                             nbb_cells[i].set_text(nbb_formatted_code);\n",
       "                        }\n",
       "                        break;\n",
       "                    }\n",
       "                }\n",
       "            }, 500);\n",
       "            "
      ],
      "text/plain": [
       "<IPython.core.display.Javascript object>"
      ]
     },
     "metadata": {},
     "output_type": "display_data"
    }
   ],
   "source": [
    "d1, d2 = gpt_splitter(model)"
   ]
  },
  {
   "cell_type": "code",
   "execution_count": 22,
   "metadata": {
    "ExecuteTime": {
     "end_time": "2020-08-20T16:28:37.395421Z",
     "start_time": "2020-08-20T16:28:37.389710Z"
    }
   },
   "outputs": [
    {
     "data": {
      "text/plain": [
       "(465, 166)"
      ]
     },
     "execution_count": 22,
     "metadata": {},
     "output_type": "execute_result"
    },
    {
     "data": {
      "application/javascript": [
       "\n",
       "            setTimeout(function() {\n",
       "                var nbb_cell_id = 22;\n",
       "                var nbb_unformatted_code = \"len(d1), len(d2)\";\n",
       "                var nbb_formatted_code = \"len(d1), len(d2)\";\n",
       "                var nbb_cells = Jupyter.notebook.get_cells();\n",
       "                for (var i = 0; i < nbb_cells.length; ++i) {\n",
       "                    if (nbb_cells[i].input_prompt_number == nbb_cell_id) {\n",
       "                        if (nbb_cells[i].get_text() == nbb_unformatted_code) {\n",
       "                             nbb_cells[i].set_text(nbb_formatted_code);\n",
       "                        }\n",
       "                        break;\n",
       "                    }\n",
       "                }\n",
       "            }, 500);\n",
       "            "
      ],
      "text/plain": [
       "<IPython.core.display.Javascript object>"
      ]
     },
     "metadata": {},
     "output_type": "display_data"
    }
   ],
   "source": [
    "len(d1), len(d2)"
   ]
  },
  {
   "cell_type": "code",
   "execution_count": 25,
   "metadata": {
    "ExecuteTime": {
     "end_time": "2020-08-20T16:34:34.437754Z",
     "start_time": "2020-08-20T16:34:34.434006Z"
    }
   },
   "outputs": [
    {
     "data": {
      "application/javascript": [
       "\n",
       "            setTimeout(function() {\n",
       "                var nbb_cell_id = 25;\n",
       "                var nbb_unformatted_code = \"# d1, d2 = gpt_splitter(model)\\n\\n# len(d2), len(d1)\\n\\n# from devai.utils.ml import CancelTrainException\\n\\n\\n# def _print_det(o):\\n#     print(\\n#         f\\\"len_param_groups={[len(o.opt.param_groups[i]) for i in range(len(o.opt.param_groups))]}, and {o.opt.hypers}\\\"\\n#     )\\n#     raise CancelTrainException()\\n\\n\\n# from types import SimpleNamespace\\n\\n# cb_types = SimpleNamespace(**{o: o for o in Learner.ALL_CBS})\\n# learn.fit(1, disc_lr_sched + [DebugCallback(cb_types.after_batch, _print_det)])\";\n",
       "                var nbb_formatted_code = \"# d1, d2 = gpt_splitter(model)\\n\\n# len(d2), len(d1)\\n\\n# from devai.utils.ml import CancelTrainException\\n\\n\\n# def _print_det(o):\\n#     print(\\n#         f\\\"len_param_groups={[len(o.opt.param_groups[i]) for i in range(len(o.opt.param_groups))]}, and {o.opt.hypers}\\\"\\n#     )\\n#     raise CancelTrainException()\\n\\n\\n# from types import SimpleNamespace\\n\\n# cb_types = SimpleNamespace(**{o: o for o in Learner.ALL_CBS})\\n# learn.fit(1, disc_lr_sched + [DebugCallback(cb_types.after_batch, _print_det)])\";\n",
       "                var nbb_cells = Jupyter.notebook.get_cells();\n",
       "                for (var i = 0; i < nbb_cells.length; ++i) {\n",
       "                    if (nbb_cells[i].input_prompt_number == nbb_cell_id) {\n",
       "                        if (nbb_cells[i].get_text() == nbb_unformatted_code) {\n",
       "                             nbb_cells[i].set_text(nbb_formatted_code);\n",
       "                        }\n",
       "                        break;\n",
       "                    }\n",
       "                }\n",
       "            }, 500);\n",
       "            "
      ],
      "text/plain": [
       "<IPython.core.display.Javascript object>"
      ]
     },
     "metadata": {},
     "output_type": "display_data"
    }
   ],
   "source": [
    "# d1, d2 = gpt_splitter(model)\n",
    "\n",
    "# len(d2), len(d1)\n",
    "\n",
    "# from devai.utils.ml import CancelTrainException\n",
    "\n",
    "\n",
    "# def _print_det(o):\n",
    "#     print(\n",
    "#         f\"len_param_groups={[len(o.opt.param_groups[i]) for i in range(len(o.opt.param_groups))]}, and {o.opt.hypers}\"\n",
    "#     )\n",
    "#     raise CancelTrainException()\n",
    "\n",
    "\n",
    "# from types import SimpleNamespace\n",
    "\n",
    "# cb_types = SimpleNamespace(**{o: o for o in Learner.ALL_CBS})\n",
    "# learn.fit(1, disc_lr_sched + [DebugCallback(cb_types.after_batch, _print_det)])"
   ]
  },
  {
   "cell_type": "code",
   "execution_count": 23,
   "metadata": {
    "ExecuteTime": {
     "end_time": "2020-08-20T16:29:04.330330Z",
     "start_time": "2020-08-20T16:29:04.322433Z"
    }
   },
   "outputs": [
    {
     "data": {
      "application/javascript": [
       "\n",
       "            setTimeout(function() {\n",
       "                var nbb_cell_id = 23;\n",
       "                var nbb_unformatted_code = \"if config.load_weights:\\n    st = torch.load(config.load_weights, map_location=torch.device(\\\"cpu\\\"))\\n    learn.model.load_state_dict(st)\";\n",
       "                var nbb_formatted_code = \"if config.load_weights:\\n    st = torch.load(config.load_weights, map_location=torch.device(\\\"cpu\\\"))\\n    learn.model.load_state_dict(st)\";\n",
       "                var nbb_cells = Jupyter.notebook.get_cells();\n",
       "                for (var i = 0; i < nbb_cells.length; ++i) {\n",
       "                    if (nbb_cells[i].input_prompt_number == nbb_cell_id) {\n",
       "                        if (nbb_cells[i].get_text() == nbb_unformatted_code) {\n",
       "                             nbb_cells[i].set_text(nbb_formatted_code);\n",
       "                        }\n",
       "                        break;\n",
       "                    }\n",
       "                }\n",
       "            }, 500);\n",
       "            "
      ],
      "text/plain": [
       "<IPython.core.display.Javascript object>"
      ]
     },
     "metadata": {},
     "output_type": "display_data"
    }
   ],
   "source": [
    "if config.load_weights:\n",
    "    st = torch.load(config.load_weights, map_location=torch.device(\"cpu\"))\n",
    "    learn.model.load_state_dict(st)"
   ]
  },
  {
   "cell_type": "code",
   "execution_count": 24,
   "metadata": {
    "ExecuteTime": {
     "end_time": "2020-08-20T16:32:39.021457Z",
     "start_time": "2020-08-20T16:29:09.445518Z"
    },
    "scrolled": false
   },
   "outputs": [
    {
     "data": {
      "text/html": [
       "\n",
       "    <div>\n",
       "        <style>\n",
       "            /* Turns off some styling */\n",
       "            progress {\n",
       "                /* gets rid of default border in Firefox and Opera. */\n",
       "                border: none;\n",
       "                /* Needs to be in here for Safari polyfill so background images work as expected. */\n",
       "                background-size: auto;\n",
       "            }\n",
       "            .progress-bar-interrupted, .progress-bar-interrupted::-webkit-progress-bar {\n",
       "                background: #F44336;\n",
       "            }\n",
       "        </style>\n",
       "      <progress value='0' class='' max='2' style='width:300px; height:20px; vertical-align: middle;'></progress>\n",
       "      \n",
       "    </div>\n",
       "    \n"
      ],
      "text/plain": [
       "<IPython.core.display.HTML object>"
      ]
     },
     "metadata": {},
     "output_type": "display_data"
    },
    {
     "data": {
      "text/html": [
       "<table border=\"1\" class=\"dataframe\">\n",
       "  <thead>\n",
       "    <tr style=\"text-align: left;\">\n",
       "      <th>epoch</th>\n",
       "      <th>train_loss</th>\n",
       "      <th>train_accuracy</th>\n",
       "      <th>valid_loss</th>\n",
       "      <th>valid_accuracy</th>\n",
       "      <th>time</th>\n",
       "    </tr>\n",
       "  </thead>\n",
       "  <tbody>\n",
       "    <tr>\n",
       "      <td>0</td>\n",
       "      <td>1.003489</td>\n",
       "      <td>0.562500</td>\n",
       "      <td>0.555845</td>\n",
       "      <td>0.750000</td>\n",
       "      <td>01:41</td>\n",
       "    </tr>\n",
       "    <tr>\n",
       "      <td>1</td>\n",
       "      <td>0.797281</td>\n",
       "      <td>0.343750</td>\n",
       "      <td>0.873146</td>\n",
       "      <td>0.250000</td>\n",
       "      <td>01:47</td>\n",
       "    </tr>\n",
       "  </tbody>\n",
       "</table>"
      ],
      "text/plain": [
       "<IPython.core.display.HTML object>"
      ]
     },
     "metadata": {},
     "output_type": "display_data"
    },
    {
     "name": "stderr",
     "output_type": "stream",
     "text": [
      "/Users/devsharma/Dropbox/Projects/devai/devai/optimizers.py:125: UserWarning: This overload of add_ is deprecated:\n",
      "\tadd_(Number alpha, Tensor other)\n",
      "Consider using one of the following signatures instead:\n",
      "\tadd_(Tensor other, *, Number alpha) (Triggered internally at  /Users/distiller/project/conda/conda-bld/pytorch_1595629430416/work/torch/csrc/utils/python_arg_parser.cpp:766.)\n",
      "  state['grad_avg'].mul_(mom).add_(state['mom_damp'], p.grad.data)\n",
      "INFO:root:epoch 0 stats for train iter 0 out of 8 iters are : {'loss': 0.8027, 'accuracy': 0.25}\n",
      "INFO:root:epoch 0 stats for train iter 4 out of 8 iters are : {'loss': 0.5009, 'accuracy': 0.7}\n",
      "INFO:root:epoch 1 stats for train iter 0 out of 8 iters are : {'loss': 0.9259, 'accuracy': 0.25}\n",
      "INFO:root:epoch 1 stats for train iter 4 out of 8 iters are : {'loss': 0.7867, 'accuracy': 0.35}\n"
     ]
    },
    {
     "data": {
      "application/javascript": [
       "\n",
       "            setTimeout(function() {\n",
       "                var nbb_cell_id = 24;\n",
       "                var nbb_unformatted_code = \"if config.do_train:\\n    learn.fit(2, cbs=disc_lr_sched)\";\n",
       "                var nbb_formatted_code = \"if config.do_train:\\n    learn.fit(2, cbs=disc_lr_sched)\";\n",
       "                var nbb_cells = Jupyter.notebook.get_cells();\n",
       "                for (var i = 0; i < nbb_cells.length; ++i) {\n",
       "                    if (nbb_cells[i].input_prompt_number == nbb_cell_id) {\n",
       "                        if (nbb_cells[i].get_text() == nbb_unformatted_code) {\n",
       "                             nbb_cells[i].set_text(nbb_formatted_code);\n",
       "                        }\n",
       "                        break;\n",
       "                    }\n",
       "                }\n",
       "            }, 500);\n",
       "            "
      ],
      "text/plain": [
       "<IPython.core.display.Javascript object>"
      ]
     },
     "metadata": {},
     "output_type": "display_data"
    }
   ],
   "source": [
    "if config.do_train:\n",
    "    learn.fit(config.epochs, cbs=disc_lr_sched)"
   ]
  },
  {
   "cell_type": "markdown",
   "metadata": {},
   "source": [
    "# Inference"
   ]
  },
  {
   "cell_type": "code",
   "execution_count": 31,
   "metadata": {
    "ExecuteTime": {
     "end_time": "2020-08-20T01:23:17.263087Z",
     "start_time": "2020-08-20T01:23:17.011503Z"
    }
   },
   "outputs": [
    {
     "ename": "AttributeError",
     "evalue": "'Learner' object has no attribute 'get_raw_preds'",
     "output_type": "error",
     "traceback": [
      "\u001b[0;31m---------------------------------------------------------------------------\u001b[0m",
      "\u001b[0;31mAttributeError\u001b[0m                            Traceback (most recent call last)",
      "\u001b[0;32m<ipython-input-31-5fa5e4e81da2>\u001b[0m in \u001b[0;36m<module>\u001b[0;34m\u001b[0m\n\u001b[0;32m----> 1\u001b[0;31m \u001b[0mpred\u001b[0m \u001b[0;34m=\u001b[0m \u001b[0mlearn\u001b[0m\u001b[0;34m.\u001b[0m\u001b[0mget_raw_preds\u001b[0m\u001b[0;34m(\u001b[0m\u001b[0;34m\"valid\"\u001b[0m\u001b[0;34m)\u001b[0m\u001b[0;34m\u001b[0m\u001b[0;34m\u001b[0m\u001b[0m\n\u001b[0m",
      "\u001b[0;31mAttributeError\u001b[0m: 'Learner' object has no attribute 'get_raw_preds'"
     ]
    },
    {
     "data": {
      "application/javascript": [
       "\n",
       "            setTimeout(function() {\n",
       "                var nbb_cell_id = 31;\n",
       "                var nbb_unformatted_code = \"pred = learn.get_raw_preds(\\\"valid\\\")\";\n",
       "                var nbb_formatted_code = \"pred = learn.get_raw_preds(\\\"valid\\\")\";\n",
       "                var nbb_cells = Jupyter.notebook.get_cells();\n",
       "                for (var i = 0; i < nbb_cells.length; ++i) {\n",
       "                    if (nbb_cells[i].input_prompt_number == nbb_cell_id) {\n",
       "                        if (nbb_cells[i].get_text() == nbb_unformatted_code) {\n",
       "                             nbb_cells[i].set_text(nbb_formatted_code);\n",
       "                        }\n",
       "                        break;\n",
       "                    }\n",
       "                }\n",
       "            }, 500);\n",
       "            "
      ],
      "text/plain": [
       "<IPython.core.display.Javascript object>"
      ]
     },
     "metadata": {},
     "output_type": "display_data"
    }
   ],
   "source": [
    "pred = learn.get_raw_preds(\"valid\")"
   ]
  },
  {
   "cell_type": "code",
   "execution_count": null,
   "metadata": {
    "ExecuteTime": {
     "end_time": "2020-08-20T01:23:17.264921Z",
     "start_time": "2020-08-20T01:08:15.558Z"
    }
   },
   "outputs": [],
   "source": [
    "len(torch.cat(pred[1]))"
   ]
  },
  {
   "cell_type": "code",
   "execution_count": null,
   "metadata": {
    "ExecuteTime": {
     "end_time": "2020-08-20T01:23:17.266317Z",
     "start_time": "2020-08-20T01:08:15.560Z"
    }
   },
   "outputs": [],
   "source": [
    "(torch.argmax(torch.cat(pred[0]), 1) == torch.cat(pred[1])).float().mean()"
   ]
  },
  {
   "cell_type": "code",
   "execution_count": null,
   "metadata": {
    "ExecuteTime": {
     "end_time": "2020-08-20T01:23:17.267980Z",
     "start_time": "2020-08-20T01:08:15.562Z"
    }
   },
   "outputs": [],
   "source": [
    "torch.argmax(torch.cat(pred[0]), 1)"
   ]
  },
  {
   "cell_type": "code",
   "execution_count": null,
   "metadata": {
    "ExecuteTime": {
     "end_time": "2020-08-20T01:23:17.269407Z",
     "start_time": "2020-08-20T01:08:15.563Z"
    }
   },
   "outputs": [],
   "source": [
    "def get_acc_by_parent(pred):\n",
    "    preds = torch.argmax(torch.cat(pred[0]), 1)\n",
    "    actual = torch.cat(pred[1])\n",
    "    types = [f.parent.parent.name for f in ll.valid.x.items[: len(preds)]]\n",
    "    masks = {t: torch.tensor([n == t for n in types]) for t in set(types)}\n",
    "    if torch.cuda.is_available():\n",
    "        preds = preds.cuda()\n",
    "        actual = actual.cuda()\n",
    "    for k, m in masks.items():\n",
    "        preds_k = preds.masked_select(m)\n",
    "        actual_k = actual.masked_select(m)\n",
    "        print(k, (preds_k == actual_k).float().mean())"
   ]
  },
  {
   "cell_type": "code",
   "execution_count": null,
   "metadata": {
    "ExecuteTime": {
     "end_time": "2020-08-20T01:23:17.270679Z",
     "start_time": "2020-08-20T01:08:15.567Z"
    }
   },
   "outputs": [],
   "source": [
    "get_acc_by_parent(pred)"
   ]
  },
  {
   "cell_type": "code",
   "execution_count": null,
   "metadata": {},
   "outputs": [],
   "source": []
  }
 ],
 "metadata": {
  "kernelspec": {
   "display_name": "Python (fastai2)",
   "language": "python",
   "name": "fastai2"
  },
  "language_info": {
   "codemirror_mode": {
    "name": "ipython",
    "version": 3
   },
   "file_extension": ".py",
   "mimetype": "text/x-python",
   "name": "python",
   "nbconvert_exporter": "python",
   "pygments_lexer": "ipython3",
   "version": "3.7.7"
  }
 },
 "nbformat": 4,
 "nbformat_minor": 4
}
