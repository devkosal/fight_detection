{
 "cells": [
  {
   "cell_type": "code",
   "execution_count": 1,
   "metadata": {
    "ExecuteTime": {
     "end_time": "2020-08-17T04:56:26.880540Z",
     "start_time": "2020-08-17T04:56:26.731295Z"
    }
   },
   "outputs": [
    {
     "data": {
      "application/javascript": [
       "\n",
       "            setTimeout(function() {\n",
       "                var nbb_cell_id = 1;\n",
       "                var nbb_unformatted_code = \"%load_ext nb_black\";\n",
       "                var nbb_formatted_code = \"%load_ext nb_black\";\n",
       "                var nbb_cells = Jupyter.notebook.get_cells();\n",
       "                for (var i = 0; i < nbb_cells.length; ++i) {\n",
       "                    if (nbb_cells[i].input_prompt_number == nbb_cell_id) {\n",
       "                        if (nbb_cells[i].get_text() == nbb_unformatted_code) {\n",
       "                             nbb_cells[i].set_text(nbb_formatted_code);\n",
       "                        }\n",
       "                        break;\n",
       "                    }\n",
       "                }\n",
       "            }, 500);\n",
       "            "
      ],
      "text/plain": [
       "<IPython.core.display.Javascript object>"
      ]
     },
     "metadata": {},
     "output_type": "display_data"
    }
   ],
   "source": [
    "%load_ext nb_black"
   ]
  },
  {
   "cell_type": "code",
   "execution_count": 34,
   "metadata": {
    "ExecuteTime": {
     "end_time": "2020-08-17T04:57:18.458412Z",
     "start_time": "2020-08-17T04:57:18.439772Z"
    }
   },
   "outputs": [
    {
     "data": {
      "application/javascript": [
       "\n",
       "            setTimeout(function() {\n",
       "                var nbb_cell_id = 34;\n",
       "                var nbb_unformatted_code = \"import os\\nimport numpy as np\\nimport random\\nfrom devai.utils.ml import Config\\nfrom devai.dataloaders import (\\n    ItemList,\\n    SplitData,\\n    random_splitter,\\n    label_by_func,\\n    parent_labeler,\\n    CategoryProcessor,\\n    compose,\\n)\\nfrom devai.callbacks import (\\n    AvgStatsCallback,\\n    ProgressCallback,\\n    Recorder,\\n    CudaCallback,\\n    TrainStatsCallback,\\n    sched_1cycle,\\n    DebugCallback,\\n    Callback,\\n)\\nfrom devai.metrics import accuracy\\nfrom devai.optimizers import adam_opt\\nfrom devai import Path\\nfrom devai.basics import Learner, CancelTrainException\\nimport mimetypes\\nfrom PIL import Image\\nfrom functools import partial\\nimport torch\\nimport torchvision.transforms as transforms\\nimport torch.nn.functional as F\\nfrom torch import nn\\nimport mimetypes\\nimport matplotlib.pyplot as plt\\nfrom model import ResCNNEncoder, DecoderRNN\\nfrom tqdm import tqdm\";\n",
       "                var nbb_formatted_code = \"import os\\nimport numpy as np\\nimport random\\nfrom devai.utils.ml import Config\\nfrom devai.dataloaders import (\\n    ItemList,\\n    SplitData,\\n    random_splitter,\\n    label_by_func,\\n    parent_labeler,\\n    CategoryProcessor,\\n    compose,\\n)\\nfrom devai.callbacks import (\\n    AvgStatsCallback,\\n    ProgressCallback,\\n    Recorder,\\n    CudaCallback,\\n    TrainStatsCallback,\\n    sched_1cycle,\\n    DebugCallback,\\n    Callback,\\n)\\nfrom devai.metrics import accuracy\\nfrom devai.optimizers import adam_opt\\nfrom devai import Path\\nfrom devai.basics import Learner, CancelTrainException\\nimport mimetypes\\nfrom PIL import Image\\nfrom functools import partial\\nimport torch\\nimport torchvision.transforms as transforms\\nimport torch.nn.functional as F\\nfrom torch import nn\\nimport mimetypes\\nimport matplotlib.pyplot as plt\\nfrom model import ResCNNEncoder, DecoderRNN\\nfrom tqdm import tqdm\";\n",
       "                var nbb_cells = Jupyter.notebook.get_cells();\n",
       "                for (var i = 0; i < nbb_cells.length; ++i) {\n",
       "                    if (nbb_cells[i].input_prompt_number == nbb_cell_id) {\n",
       "                        if (nbb_cells[i].get_text() == nbb_unformatted_code) {\n",
       "                             nbb_cells[i].set_text(nbb_formatted_code);\n",
       "                        }\n",
       "                        break;\n",
       "                    }\n",
       "                }\n",
       "            }, 500);\n",
       "            "
      ],
      "text/plain": [
       "<IPython.core.display.Javascript object>"
      ]
     },
     "metadata": {},
     "output_type": "display_data"
    }
   ],
   "source": [
    "import os\n",
    "import numpy as np\n",
    "import random\n",
    "from devai.utils.ml import Config\n",
    "from devai.dataloaders import (\n",
    "    ItemList,\n",
    "    SplitData,\n",
    "    random_splitter,\n",
    "    label_by_func,\n",
    "    parent_labeler,\n",
    "    CategoryProcessor,\n",
    "    compose,\n",
    ")\n",
    "from devai.callbacks import (\n",
    "    AvgStatsCallback,\n",
    "    ProgressCallback,\n",
    "    Recorder,\n",
    "    CudaCallback,\n",
    "    TrainStatsCallback,\n",
    "    sched_1cycle,\n",
    "    DebugCallback,\n",
    "    Callback,\n",
    ")\n",
    "from devai.metrics import accuracy\n",
    "from devai.optimizers import adam_opt\n",
    "from devai import Path\n",
    "from devai.basics import Learner, CancelTrainException\n",
    "import mimetypes\n",
    "from PIL import Image\n",
    "from functools import partial\n",
    "import torch\n",
    "import torchvision.transforms as transforms\n",
    "import torch.nn.functional as F\n",
    "from torch import nn\n",
    "import mimetypes\n",
    "import matplotlib.pyplot as plt\n",
    "from model import ResCNNEncoder, DecoderRNN\n",
    "from tqdm import tqdm"
   ]
  },
  {
   "cell_type": "markdown",
   "metadata": {},
   "source": [
    "# Config"
   ]
  },
  {
   "cell_type": "code",
   "execution_count": 3,
   "metadata": {
    "ExecuteTime": {
     "end_time": "2020-08-17T04:56:28.295403Z",
     "start_time": "2020-08-17T04:56:28.285052Z"
    }
   },
   "outputs": [
    {
     "data": {
      "application/javascript": [
       "\n",
       "            setTimeout(function() {\n",
       "                var nbb_cell_id = 3;\n",
       "                var nbb_unformatted_code = \"config = Config(\\n    do_train=False,\\n    p_valid=0.3,\\n    res_size=224,\\n    num_classes=2,\\n    epochs=10,  # training epochs\\n    bs=8,\\n    max_lr=1e-3,\\n    phases=0.3,\\n    testing_pct=None,  # reduces the data to this percent if testing\\n    update_pct=0.5,\\n    load_weights=\\\"weights/crnn_1e3_10epc.pth\\\",\\n)\";\n",
       "                var nbb_formatted_code = \"config = Config(\\n    do_train=False,\\n    p_valid=0.3,\\n    res_size=224,\\n    num_classes=2,\\n    epochs=10,  # training epochs\\n    bs=8,\\n    max_lr=1e-3,\\n    phases=0.3,\\n    testing_pct=None,  # reduces the data to this percent if testing\\n    update_pct=0.5,\\n    load_weights=\\\"weights/crnn_1e3_10epc.pth\\\",\\n)\";\n",
       "                var nbb_cells = Jupyter.notebook.get_cells();\n",
       "                for (var i = 0; i < nbb_cells.length; ++i) {\n",
       "                    if (nbb_cells[i].input_prompt_number == nbb_cell_id) {\n",
       "                        if (nbb_cells[i].get_text() == nbb_unformatted_code) {\n",
       "                             nbb_cells[i].set_text(nbb_formatted_code);\n",
       "                        }\n",
       "                        break;\n",
       "                    }\n",
       "                }\n",
       "            }, 500);\n",
       "            "
      ],
      "text/plain": [
       "<IPython.core.display.Javascript object>"
      ]
     },
     "metadata": {},
     "output_type": "display_data"
    }
   ],
   "source": [
    "config = Config(\n",
    "    do_train=False,\n",
    "    p_valid=0.3,\n",
    "    res_size=224,\n",
    "    num_classes=2,\n",
    "    epochs=10,  # training epochs\n",
    "    bs=8,\n",
    "    max_lr=1e-3,\n",
    "    phases=0.3,\n",
    "    testing_pct=None,  # reduces the data to this percent if testing\n",
    "    update_pct=0.5,\n",
    "    load_weights=\"weights/crnn_1e3_10epc.pth\",\n",
    ")"
   ]
  },
  {
   "cell_type": "markdown",
   "metadata": {
    "ExecuteTime": {
     "end_time": "2020-08-12T15:30:43.897854Z",
     "start_time": "2020-08-12T15:30:43.885403Z"
    }
   },
   "source": [
    "# Dataloaders"
   ]
  },
  {
   "cell_type": "code",
   "execution_count": 4,
   "metadata": {
    "ExecuteTime": {
     "end_time": "2020-08-17T04:56:28.311821Z",
     "start_time": "2020-08-17T04:56:28.297510Z"
    }
   },
   "outputs": [
    {
     "data": {
      "application/javascript": [
       "\n",
       "            setTimeout(function() {\n",
       "                var nbb_cell_id = 4;\n",
       "                var nbb_unformatted_code = \"image_extensions = set(\\n    k for k, v in mimetypes.types_map.items() if v.startswith(\\\"image/\\\")\\n)\\ndatasets = [\\\"surv\\\", \\\"hockey\\\", \\\"movies\\\"]\\nexclude = [\\\"data\\\", \\\"fight\\\", \\\"nofight\\\", \\\"source_data\\\"] + datasets\\n\\n\\ndef show_image(im, figsize=(3, 3)):\\n    plt.figure(figsize=figsize)\\n    plt.axis(\\\"off\\\")\\n    plt.imshow(im.permute(1, 2, 0))\";\n",
       "                var nbb_formatted_code = \"image_extensions = set(\\n    k for k, v in mimetypes.types_map.items() if v.startswith(\\\"image/\\\")\\n)\\ndatasets = [\\\"surv\\\", \\\"hockey\\\", \\\"movies\\\"]\\nexclude = [\\\"data\\\", \\\"fight\\\", \\\"nofight\\\", \\\"source_data\\\"] + datasets\\n\\n\\ndef show_image(im, figsize=(3, 3)):\\n    plt.figure(figsize=figsize)\\n    plt.axis(\\\"off\\\")\\n    plt.imshow(im.permute(1, 2, 0))\";\n",
       "                var nbb_cells = Jupyter.notebook.get_cells();\n",
       "                for (var i = 0; i < nbb_cells.length; ++i) {\n",
       "                    if (nbb_cells[i].input_prompt_number == nbb_cell_id) {\n",
       "                        if (nbb_cells[i].get_text() == nbb_unformatted_code) {\n",
       "                             nbb_cells[i].set_text(nbb_formatted_code);\n",
       "                        }\n",
       "                        break;\n",
       "                    }\n",
       "                }\n",
       "            }, 500);\n",
       "            "
      ],
      "text/plain": [
       "<IPython.core.display.Javascript object>"
      ]
     },
     "metadata": {},
     "output_type": "display_data"
    }
   ],
   "source": [
    "image_extensions = set(\n",
    "    k for k, v in mimetypes.types_map.items() if v.startswith(\"image/\")\n",
    ")\n",
    "datasets = [\"surv\", \"hockey\", \"movies\"]\n",
    "exclude = [\"data\", \"fight\", \"nofight\", \"source_data\"] + datasets\n",
    "\n",
    "\n",
    "def show_image(im, figsize=(3, 3)):\n",
    "    plt.figure(figsize=figsize)\n",
    "    plt.axis(\"off\")\n",
    "    plt.imshow(im.permute(1, 2, 0))"
   ]
  },
  {
   "cell_type": "code",
   "execution_count": 5,
   "metadata": {
    "ExecuteTime": {
     "end_time": "2020-08-17T04:56:28.345125Z",
     "start_time": "2020-08-17T04:56:28.313714Z"
    }
   },
   "outputs": [
    {
     "data": {
      "application/javascript": [
       "\n",
       "            setTimeout(function() {\n",
       "                var nbb_cell_id = 5;\n",
       "                var nbb_unformatted_code = \"def get_folders(data_path, **kwargs):\\n    data_path = Path(data_path)\\n    all_files = data_path.ls(**kwargs)\\n    image_folders = [f for f in all_files if f.is_dir()]\\n    return image_folders\\n\\n\\nclass ImageFolderList(ItemList):\\n    @classmethod\\n    def from_files(\\n        cls, path, extensions=None, recursive=True, include=None, exclude=None, **kwargs\\n    ):\\n        return cls(\\n            get_folders(path, recursive=recursive, include=include, exclude=exclude),\\n            path,\\n            **kwargs\\n        )\\n\\n    @staticmethod\\n    def sample_images(len_frames, n):\\n        sample_idxs = set()\\n        if len_frames <= n:\\n            return list(range(0, len_frames))\\n            raise ValueError(\\\"We got a problem\\\")\\n        while len(sample_idxs) < n:\\n            sample_idxs.add(random.randint(0, len_frames - 1))\\n        return sample_idxs\\n\\n    def _get(self, fn):\\n        frames = fn.ls(include=image_extensions, extension_filtering=True)\\n        frames = [frames[i] for i in self.sample_images(len(frames), 5)]\\n        x = []\\n        for img in frames:\\n            img = Image.open(img)\\n            x.append(compose(img, self.tfms))\\n        return torch.stack(x, 0) if self.tfms else x\";\n",
       "                var nbb_formatted_code = \"def get_folders(data_path, **kwargs):\\n    data_path = Path(data_path)\\n    all_files = data_path.ls(**kwargs)\\n    image_folders = [f for f in all_files if f.is_dir()]\\n    return image_folders\\n\\n\\nclass ImageFolderList(ItemList):\\n    @classmethod\\n    def from_files(\\n        cls, path, extensions=None, recursive=True, include=None, exclude=None, **kwargs\\n    ):\\n        return cls(\\n            get_folders(path, recursive=recursive, include=include, exclude=exclude),\\n            path,\\n            **kwargs\\n        )\\n\\n    @staticmethod\\n    def sample_images(len_frames, n):\\n        sample_idxs = set()\\n        if len_frames <= n:\\n            return list(range(0, len_frames))\\n            raise ValueError(\\\"We got a problem\\\")\\n        while len(sample_idxs) < n:\\n            sample_idxs.add(random.randint(0, len_frames - 1))\\n        return sample_idxs\\n\\n    def _get(self, fn):\\n        frames = fn.ls(include=image_extensions, extension_filtering=True)\\n        frames = [frames[i] for i in self.sample_images(len(frames), 5)]\\n        x = []\\n        for img in frames:\\n            img = Image.open(img)\\n            x.append(compose(img, self.tfms))\\n        return torch.stack(x, 0) if self.tfms else x\";\n",
       "                var nbb_cells = Jupyter.notebook.get_cells();\n",
       "                for (var i = 0; i < nbb_cells.length; ++i) {\n",
       "                    if (nbb_cells[i].input_prompt_number == nbb_cell_id) {\n",
       "                        if (nbb_cells[i].get_text() == nbb_unformatted_code) {\n",
       "                             nbb_cells[i].set_text(nbb_formatted_code);\n",
       "                        }\n",
       "                        break;\n",
       "                    }\n",
       "                }\n",
       "            }, 500);\n",
       "            "
      ],
      "text/plain": [
       "<IPython.core.display.Javascript object>"
      ]
     },
     "metadata": {},
     "output_type": "display_data"
    }
   ],
   "source": [
    "def get_folders(data_path, **kwargs):\n",
    "    data_path = Path(data_path)\n",
    "    all_files = data_path.ls(**kwargs)\n",
    "    image_folders = [f for f in all_files if f.is_dir()]\n",
    "    return image_folders\n",
    "\n",
    "\n",
    "class ImageFolderList(ItemList):\n",
    "    @classmethod\n",
    "    def from_files(\n",
    "        cls, path, extensions=None, recursive=True, include=None, exclude=None, **kwargs\n",
    "    ):\n",
    "        return cls(\n",
    "            get_folders(path, recursive=recursive, include=include, exclude=exclude),\n",
    "            path,\n",
    "            **kwargs\n",
    "        )\n",
    "\n",
    "    @staticmethod\n",
    "    def sample_images(len_frames, n):\n",
    "        sample_idxs = set()\n",
    "        if len_frames <= n:\n",
    "            return list(range(0, len_frames))\n",
    "            raise ValueError(\"We got a problem\")\n",
    "        while len(sample_idxs) < n:\n",
    "            sample_idxs.add(random.randint(0, len_frames - 1))\n",
    "        return sample_idxs\n",
    "\n",
    "    def _get(self, fn):\n",
    "        frames = fn.ls(include=image_extensions, extension_filtering=True)\n",
    "        frames = [frames[i] for i in self.sample_images(len(frames), 5)]\n",
    "        x = []\n",
    "        for img in frames:\n",
    "            img = Image.open(img)\n",
    "            x.append(compose(img, self.tfms))\n",
    "        return torch.stack(x, 0) if self.tfms else x"
   ]
  },
  {
   "cell_type": "code",
   "execution_count": 6,
   "metadata": {
    "ExecuteTime": {
     "end_time": "2020-08-17T04:56:28.368276Z",
     "start_time": "2020-08-17T04:56:28.346865Z"
    }
   },
   "outputs": [
    {
     "data": {
      "application/javascript": [
       "\n",
       "            setTimeout(function() {\n",
       "                var nbb_cell_id = 6;\n",
       "                var nbb_unformatted_code = \"# sample images # done!\\n# make rgb\\nclass Transform:\\n    _order = 0\\n\\n\\ndef make_rgb(item):\\n    return item.convert(\\\"RGB\\\")\\n\\n\\n# Resize\\nclass ResizeFixed(Transform):\\n    _order = 10\\n\\n    def __init__(self, size):\\n        if isinstance(size, int):\\n            size = (size, size)\\n        self.size = size\\n\\n    def __call__(self, item):\\n        return item.resize(self.size, PIL.Image.BILINEAR)\\n\\n\\n# etc?\\ndef to_byte_tensor(item):\\n    res = torch.ByteTensor(torch.ByteStorage.from_buffer(item.tobytes()))\\n    w, h = item.size\\n    return res.view(h, w, -1).permute(2, 0, 1)\\n\\n\\nto_byte_tensor._order = 20\\n\\n\\ndef to_float_tensor(item):\\n    return item.float().div_(255.0)\\n\\n\\nto_float_tensor._order = 30\";\n",
       "                var nbb_formatted_code = \"# sample images # done!\\n# make rgb\\nclass Transform:\\n    _order = 0\\n\\n\\ndef make_rgb(item):\\n    return item.convert(\\\"RGB\\\")\\n\\n\\n# Resize\\nclass ResizeFixed(Transform):\\n    _order = 10\\n\\n    def __init__(self, size):\\n        if isinstance(size, int):\\n            size = (size, size)\\n        self.size = size\\n\\n    def __call__(self, item):\\n        return item.resize(self.size, PIL.Image.BILINEAR)\\n\\n\\n# etc?\\ndef to_byte_tensor(item):\\n    res = torch.ByteTensor(torch.ByteStorage.from_buffer(item.tobytes()))\\n    w, h = item.size\\n    return res.view(h, w, -1).permute(2, 0, 1)\\n\\n\\nto_byte_tensor._order = 20\\n\\n\\ndef to_float_tensor(item):\\n    return item.float().div_(255.0)\\n\\n\\nto_float_tensor._order = 30\";\n",
       "                var nbb_cells = Jupyter.notebook.get_cells();\n",
       "                for (var i = 0; i < nbb_cells.length; ++i) {\n",
       "                    if (nbb_cells[i].input_prompt_number == nbb_cell_id) {\n",
       "                        if (nbb_cells[i].get_text() == nbb_unformatted_code) {\n",
       "                             nbb_cells[i].set_text(nbb_formatted_code);\n",
       "                        }\n",
       "                        break;\n",
       "                    }\n",
       "                }\n",
       "            }, 500);\n",
       "            "
      ],
      "text/plain": [
       "<IPython.core.display.Javascript object>"
      ]
     },
     "metadata": {},
     "output_type": "display_data"
    }
   ],
   "source": [
    "# sample images # done!\n",
    "# make rgb\n",
    "class Transform:\n",
    "    _order = 0\n",
    "\n",
    "\n",
    "def make_rgb(item):\n",
    "    return item.convert(\"RGB\")\n",
    "\n",
    "\n",
    "# Resize\n",
    "class ResizeFixed(Transform):\n",
    "    _order = 10\n",
    "\n",
    "    def __init__(self, size):\n",
    "        if isinstance(size, int):\n",
    "            size = (size, size)\n",
    "        self.size = size\n",
    "\n",
    "    def __call__(self, item):\n",
    "        return item.resize(self.size, PIL.Image.BILINEAR)\n",
    "\n",
    "\n",
    "# etc?\n",
    "def to_byte_tensor(item):\n",
    "    res = torch.ByteTensor(torch.ByteStorage.from_buffer(item.tobytes()))\n",
    "    w, h = item.size\n",
    "    return res.view(h, w, -1).permute(2, 0, 1)\n",
    "\n",
    "\n",
    "to_byte_tensor._order = 20\n",
    "\n",
    "\n",
    "def to_float_tensor(item):\n",
    "    return item.float().div_(255.0)\n",
    "\n",
    "\n",
    "to_float_tensor._order = 30"
   ]
  },
  {
   "cell_type": "code",
   "execution_count": 7,
   "metadata": {
    "ExecuteTime": {
     "end_time": "2020-08-17T04:56:28.382139Z",
     "start_time": "2020-08-17T04:56:28.370127Z"
    }
   },
   "outputs": [
    {
     "data": {
      "application/javascript": [
       "\n",
       "            setTimeout(function() {\n",
       "                var nbb_cell_id = 7;\n",
       "                var nbb_unformatted_code = \"tfms = [make_rgb, ResizeFixed(config.res_size), to_byte_tensor, to_float_tensor]\\ntfms_tv = [\\n    transforms.Resize([config.res_size, config.res_size]),\\n    transforms.ToTensor(),\\n    transforms.Normalize(mean=[0.485, 0.456, 0.406], std=[0.229, 0.224, 0.225]),\\n]\";\n",
       "                var nbb_formatted_code = \"tfms = [make_rgb, ResizeFixed(config.res_size), to_byte_tensor, to_float_tensor]\\ntfms_tv = [\\n    transforms.Resize([config.res_size, config.res_size]),\\n    transforms.ToTensor(),\\n    transforms.Normalize(mean=[0.485, 0.456, 0.406], std=[0.229, 0.224, 0.225]),\\n]\";\n",
       "                var nbb_cells = Jupyter.notebook.get_cells();\n",
       "                for (var i = 0; i < nbb_cells.length; ++i) {\n",
       "                    if (nbb_cells[i].input_prompt_number == nbb_cell_id) {\n",
       "                        if (nbb_cells[i].get_text() == nbb_unformatted_code) {\n",
       "                             nbb_cells[i].set_text(nbb_formatted_code);\n",
       "                        }\n",
       "                        break;\n",
       "                    }\n",
       "                }\n",
       "            }, 500);\n",
       "            "
      ],
      "text/plain": [
       "<IPython.core.display.Javascript object>"
      ]
     },
     "metadata": {},
     "output_type": "display_data"
    }
   ],
   "source": [
    "tfms = [make_rgb, ResizeFixed(config.res_size), to_byte_tensor, to_float_tensor]\n",
    "tfms_tv = [\n",
    "    transforms.Resize([config.res_size, config.res_size]),\n",
    "    transforms.ToTensor(),\n",
    "    transforms.Normalize(mean=[0.485, 0.456, 0.406], std=[0.229, 0.224, 0.225]),\n",
    "]"
   ]
  },
  {
   "cell_type": "code",
   "execution_count": 8,
   "metadata": {
    "ExecuteTime": {
     "end_time": "2020-08-17T04:56:29.697938Z",
     "start_time": "2020-08-17T04:56:28.385603Z"
    }
   },
   "outputs": [
    {
     "data": {
      "application/javascript": [
       "\n",
       "            setTimeout(function() {\n",
       "                var nbb_cell_id = 8;\n",
       "                var nbb_unformatted_code = \"il = ImageFolderList.from_files(\\\"data\\\", exclude=exclude, tfms=tfms_tv)\\nif config.testing_pct:\\n    random.shuffle(il.items)\\n    il = il.new(il.items[: round(len(il) * config.testing_pct)])\";\n",
       "                var nbb_formatted_code = \"il = ImageFolderList.from_files(\\\"data\\\", exclude=exclude, tfms=tfms_tv)\\nif config.testing_pct:\\n    random.shuffle(il.items)\\n    il = il.new(il.items[: round(len(il) * config.testing_pct)])\";\n",
       "                var nbb_cells = Jupyter.notebook.get_cells();\n",
       "                for (var i = 0; i < nbb_cells.length; ++i) {\n",
       "                    if (nbb_cells[i].input_prompt_number == nbb_cell_id) {\n",
       "                        if (nbb_cells[i].get_text() == nbb_unformatted_code) {\n",
       "                             nbb_cells[i].set_text(nbb_formatted_code);\n",
       "                        }\n",
       "                        break;\n",
       "                    }\n",
       "                }\n",
       "            }, 500);\n",
       "            "
      ],
      "text/plain": [
       "<IPython.core.display.Javascript object>"
      ]
     },
     "metadata": {},
     "output_type": "display_data"
    }
   ],
   "source": [
    "il = ImageFolderList.from_files(\"data\", exclude=exclude, tfms=tfms_tv)\n",
    "if config.testing_pct:\n",
    "    random.shuffle(il.items)\n",
    "    il = il.new(il.items[: round(len(il) * config.testing_pct)])"
   ]
  },
  {
   "cell_type": "code",
   "execution_count": 9,
   "metadata": {
    "ExecuteTime": {
     "end_time": "2020-08-17T04:56:29.790836Z",
     "start_time": "2020-08-17T04:56:29.700905Z"
    }
   },
   "outputs": [
    {
     "name": "stderr",
     "output_type": "stream",
     "text": [
      "Clipping input data to the valid range for imshow with RGB data ([0..1] for floats or [0..255] for integers).\n"
     ]
    },
    {
     "data": {
      "image/png": "[encoded data removed]",
      "text/plain": [
       "<Figure size 216x216 with 1 Axes>"
      ]
     },
     "metadata": {
      "needs_background": "light"
     },
     "output_type": "display_data"
    },
    {
     "data": {
      "application/javascript": [
       "\n",
       "            setTimeout(function() {\n",
       "                var nbb_cell_id = 9;\n",
       "                var nbb_unformatted_code = \"show_image(il[10][3])\";\n",
       "                var nbb_formatted_code = \"show_image(il[10][3])\";\n",
       "                var nbb_cells = Jupyter.notebook.get_cells();\n",
       "                for (var i = 0; i < nbb_cells.length; ++i) {\n",
       "                    if (nbb_cells[i].input_prompt_number == nbb_cell_id) {\n",
       "                        if (nbb_cells[i].get_text() == nbb_unformatted_code) {\n",
       "                             nbb_cells[i].set_text(nbb_formatted_code);\n",
       "                        }\n",
       "                        break;\n",
       "                    }\n",
       "                }\n",
       "            }, 500);\n",
       "            "
      ],
      "text/plain": [
       "<IPython.core.display.Javascript object>"
      ]
     },
     "metadata": {},
     "output_type": "display_data"
    }
   ],
   "source": [
    "show_image(il[10][3])"
   ]
  },
  {
   "cell_type": "code",
   "execution_count": 10,
   "metadata": {
    "ExecuteTime": {
     "end_time": "2020-08-17T04:56:29.800435Z",
     "start_time": "2020-08-17T04:56:29.792972Z"
    }
   },
   "outputs": [
    {
     "data": {
      "application/javascript": [
       "\n",
       "            setTimeout(function() {\n",
       "                var nbb_cell_id = 10;\n",
       "                var nbb_unformatted_code = \"random_splitter_func = partial(random_splitter, p_valid=config.p_valid)\\nsd = SplitData.split_by_func(il, random_splitter_func)\";\n",
       "                var nbb_formatted_code = \"random_splitter_func = partial(random_splitter, p_valid=config.p_valid)\\nsd = SplitData.split_by_func(il, random_splitter_func)\";\n",
       "                var nbb_cells = Jupyter.notebook.get_cells();\n",
       "                for (var i = 0; i < nbb_cells.length; ++i) {\n",
       "                    if (nbb_cells[i].input_prompt_number == nbb_cell_id) {\n",
       "                        if (nbb_cells[i].get_text() == nbb_unformatted_code) {\n",
       "                             nbb_cells[i].set_text(nbb_formatted_code);\n",
       "                        }\n",
       "                        break;\n",
       "                    }\n",
       "                }\n",
       "            }, 500);\n",
       "            "
      ],
      "text/plain": [
       "<IPython.core.display.Javascript object>"
      ]
     },
     "metadata": {},
     "output_type": "display_data"
    }
   ],
   "source": [
    "random_splitter_func = partial(random_splitter, p_valid=config.p_valid)\n",
    "sd = SplitData.split_by_func(il, random_splitter_func)"
   ]
  },
  {
   "cell_type": "code",
   "execution_count": 11,
   "metadata": {
    "ExecuteTime": {
     "end_time": "2020-08-17T04:56:29.850514Z",
     "start_time": "2020-08-17T04:56:29.802756Z"
    }
   },
   "outputs": [
    {
     "data": {
      "application/javascript": [
       "\n",
       "            setTimeout(function() {\n",
       "                var nbb_cell_id = 11;\n",
       "                var nbb_unformatted_code = \"ll = label_by_func(sd, parent_labeler, proc_y=CategoryProcessor())\";\n",
       "                var nbb_formatted_code = \"ll = label_by_func(sd, parent_labeler, proc_y=CategoryProcessor())\";\n",
       "                var nbb_cells = Jupyter.notebook.get_cells();\n",
       "                for (var i = 0; i < nbb_cells.length; ++i) {\n",
       "                    if (nbb_cells[i].input_prompt_number == nbb_cell_id) {\n",
       "                        if (nbb_cells[i].get_text() == nbb_unformatted_code) {\n",
       "                             nbb_cells[i].set_text(nbb_formatted_code);\n",
       "                        }\n",
       "                        break;\n",
       "                    }\n",
       "                }\n",
       "            }, 500);\n",
       "            "
      ],
      "text/plain": [
       "<IPython.core.display.Javascript object>"
      ]
     },
     "metadata": {},
     "output_type": "display_data"
    }
   ],
   "source": [
    "ll = label_by_func(sd, parent_labeler, proc_y=CategoryProcessor())"
   ]
  },
  {
   "cell_type": "code",
   "execution_count": 12,
   "metadata": {
    "ExecuteTime": {
     "end_time": "2020-08-17T04:56:29.860330Z",
     "start_time": "2020-08-17T04:56:29.852917Z"
    }
   },
   "outputs": [
    {
     "data": {
      "application/javascript": [
       "\n",
       "            setTimeout(function() {\n",
       "                var nbb_cell_id = 12;\n",
       "                var nbb_unformatted_code = \"# https://discuss.pytorch.org/t/error-expected-more-than-1-value-per-channel-when-training/26274/3\\ndata = ll.to_databunch(config.bs, drop_last=True)\";\n",
       "                var nbb_formatted_code = \"# https://discuss.pytorch.org/t/error-expected-more-than-1-value-per-channel-when-training/26274/3\\ndata = ll.to_databunch(config.bs, drop_last=True)\";\n",
       "                var nbb_cells = Jupyter.notebook.get_cells();\n",
       "                for (var i = 0; i < nbb_cells.length; ++i) {\n",
       "                    if (nbb_cells[i].input_prompt_number == nbb_cell_id) {\n",
       "                        if (nbb_cells[i].get_text() == nbb_unformatted_code) {\n",
       "                             nbb_cells[i].set_text(nbb_formatted_code);\n",
       "                        }\n",
       "                        break;\n",
       "                    }\n",
       "                }\n",
       "            }, 500);\n",
       "            "
      ],
      "text/plain": [
       "<IPython.core.display.Javascript object>"
      ]
     },
     "metadata": {},
     "output_type": "display_data"
    }
   ],
   "source": [
    "# https://discuss.pytorch.org/t/error-expected-more-than-1-value-per-channel-when-training/26274/3\n",
    "data = ll.to_databunch(config.bs, drop_last=True)"
   ]
  },
  {
   "cell_type": "code",
   "execution_count": 13,
   "metadata": {
    "ExecuteTime": {
     "end_time": "2020-08-17T04:56:29.870092Z",
     "start_time": "2020-08-17T04:56:29.862692Z"
    }
   },
   "outputs": [
    {
     "data": {
      "text/plain": [
       "LabeledData\n",
       "x: ImageFolderList (399 items)\n",
       "[PosixPath('data/hockey/fight/fi100_xvid'), PosixPath('data/hockey/fight/fi105_xvid'), PosixPath('data/hockey/fight/fi10_xvid'), PosixPath('data/hockey/fight/fi112_xvid'), PosixPath('data/hockey/fight/fi115_xvid'), PosixPath('data/hockey/fight/fi116_xvid'), PosixPath('data/hockey/fight/fi119_xvid'), PosixPath('data/hockey/fight/fi120_xvid'), PosixPath('data/hockey/fight/fi122_xvid'), PosixPath('data/hockey/fight/fi124_xvid')...]\n",
       "Path: data\n",
       "y: ItemList (399 items)\n",
       "[0, 0, 0, 0, 0, 0, 0, 0, 0, 0...]\n",
       "Path: data"
      ]
     },
     "execution_count": 13,
     "metadata": {},
     "output_type": "execute_result"
    },
    {
     "data": {
      "application/javascript": [
       "\n",
       "            setTimeout(function() {\n",
       "                var nbb_cell_id = 13;\n",
       "                var nbb_unformatted_code = \"data.valid_ds\";\n",
       "                var nbb_formatted_code = \"data.valid_ds\";\n",
       "                var nbb_cells = Jupyter.notebook.get_cells();\n",
       "                for (var i = 0; i < nbb_cells.length; ++i) {\n",
       "                    if (nbb_cells[i].input_prompt_number == nbb_cell_id) {\n",
       "                        if (nbb_cells[i].get_text() == nbb_unformatted_code) {\n",
       "                             nbb_cells[i].set_text(nbb_formatted_code);\n",
       "                        }\n",
       "                        break;\n",
       "                    }\n",
       "                }\n",
       "            }, 500);\n",
       "            "
      ],
      "text/plain": [
       "<IPython.core.display.Javascript object>"
      ]
     },
     "metadata": {},
     "output_type": "display_data"
    }
   ],
   "source": [
    "data.valid_ds"
   ]
  },
  {
   "cell_type": "markdown",
   "metadata": {},
   "source": [
    "# Model"
   ]
  },
  {
   "cell_type": "code",
   "execution_count": 14,
   "metadata": {
    "ExecuteTime": {
     "end_time": "2020-08-17T04:56:29.886204Z",
     "start_time": "2020-08-17T04:56:29.872452Z"
    }
   },
   "outputs": [
    {
     "data": {
      "application/javascript": [
       "\n",
       "            setTimeout(function() {\n",
       "                var nbb_cell_id = 14;\n",
       "                var nbb_unformatted_code = \"class EncoderDecoder(nn.Module):\\n    def __init__(self, num_classes):\\n        super(EncoderDecoder, self).__init__()\\n        self.num_classes = num_classes\\n        self.cnn_encoder = ResCNNEncoder()\\n        self.rnn_decoder = DecoderRNN(num_classes=self.num_classes)\\n\\n    def forward(self, x):\\n        x = self.cnn_encoder(x)\\n        x = self.rnn_decoder(x)\\n        return x\";\n",
       "                var nbb_formatted_code = \"class EncoderDecoder(nn.Module):\\n    def __init__(self, num_classes):\\n        super(EncoderDecoder, self).__init__()\\n        self.num_classes = num_classes\\n        self.cnn_encoder = ResCNNEncoder()\\n        self.rnn_decoder = DecoderRNN(num_classes=self.num_classes)\\n\\n    def forward(self, x):\\n        x = self.cnn_encoder(x)\\n        x = self.rnn_decoder(x)\\n        return x\";\n",
       "                var nbb_cells = Jupyter.notebook.get_cells();\n",
       "                for (var i = 0; i < nbb_cells.length; ++i) {\n",
       "                    if (nbb_cells[i].input_prompt_number == nbb_cell_id) {\n",
       "                        if (nbb_cells[i].get_text() == nbb_unformatted_code) {\n",
       "                             nbb_cells[i].set_text(nbb_formatted_code);\n",
       "                        }\n",
       "                        break;\n",
       "                    }\n",
       "                }\n",
       "            }, 500);\n",
       "            "
      ],
      "text/plain": [
       "<IPython.core.display.Javascript object>"
      ]
     },
     "metadata": {},
     "output_type": "display_data"
    }
   ],
   "source": [
    "class EncoderDecoder(nn.Module):\n",
    "    def __init__(self, num_classes):\n",
    "        super(EncoderDecoder, self).__init__()\n",
    "        self.num_classes = num_classes\n",
    "        self.cnn_encoder = ResCNNEncoder()\n",
    "        self.rnn_decoder = DecoderRNN(num_classes=self.num_classes)\n",
    "\n",
    "    def forward(self, x):\n",
    "        x = self.cnn_encoder(x)\n",
    "        x = self.rnn_decoder(x)\n",
    "        return x"
   ]
  },
  {
   "cell_type": "code",
   "execution_count": 15,
   "metadata": {
    "ExecuteTime": {
     "end_time": "2020-08-17T04:56:31.518161Z",
     "start_time": "2020-08-17T04:56:29.888265Z"
    }
   },
   "outputs": [
    {
     "data": {
      "application/javascript": [
       "\n",
       "            setTimeout(function() {\n",
       "                var nbb_cell_id = 15;\n",
       "                var nbb_unformatted_code = \"model = EncoderDecoder(num_classes=2)\";\n",
       "                var nbb_formatted_code = \"model = EncoderDecoder(num_classes=2)\";\n",
       "                var nbb_cells = Jupyter.notebook.get_cells();\n",
       "                for (var i = 0; i < nbb_cells.length; ++i) {\n",
       "                    if (nbb_cells[i].input_prompt_number == nbb_cell_id) {\n",
       "                        if (nbb_cells[i].get_text() == nbb_unformatted_code) {\n",
       "                             nbb_cells[i].set_text(nbb_formatted_code);\n",
       "                        }\n",
       "                        break;\n",
       "                    }\n",
       "                }\n",
       "            }, 500);\n",
       "            "
      ],
      "text/plain": [
       "<IPython.core.display.Javascript object>"
      ]
     },
     "metadata": {},
     "output_type": "display_data"
    }
   ],
   "source": [
    "model = EncoderDecoder(num_classes=2)"
   ]
  },
  {
   "cell_type": "code",
   "execution_count": 16,
   "metadata": {
    "ExecuteTime": {
     "end_time": "2020-08-17T04:56:31.544973Z",
     "start_time": "2020-08-17T04:56:31.519977Z"
    }
   },
   "outputs": [
    {
     "data": {
      "application/javascript": [
       "\n",
       "            setTimeout(function() {\n",
       "                var nbb_cell_id = 16;\n",
       "                var nbb_unformatted_code = \"def crnn_splitter(m):\\n    def _crnn_splitter(m, g1=[], g2=[]):\\n        \\\"\\\"\\\"\\n        g1 = trainable weights \\n        g2 = group which get a learning rate of 0\\n        \\\"\\\"\\\"\\n        train = [\\\"fc1\\\", \\\"fc2\\\", \\\"fc3\\\", \\\"bn1\\\", \\\"bn2\\\", \\\"rnn_decoder\\\"]\\n        dont_train = [\\\"resnet\\\"]\\n        l = dict(m.named_children()).keys()\\n        for k in l:\\n            p = getattr(m, k).parameters()\\n            if k in dont_train:\\n                g1 += p\\n            elif k in train:\\n                g2 += p\\n            else:\\n                for ll in m.children():\\n                    _crnn_splitter(ll, g1, g2)\\n        return g1, g2\\n\\n    return _crnn_splitter(m)\";\n",
       "                var nbb_formatted_code = \"def crnn_splitter(m):\\n    def _crnn_splitter(m, g1=[], g2=[]):\\n        \\\"\\\"\\\"\\n        g1 = trainable weights \\n        g2 = group which get a learning rate of 0\\n        \\\"\\\"\\\"\\n        train = [\\\"fc1\\\", \\\"fc2\\\", \\\"fc3\\\", \\\"bn1\\\", \\\"bn2\\\", \\\"rnn_decoder\\\"]\\n        dont_train = [\\\"resnet\\\"]\\n        l = dict(m.named_children()).keys()\\n        for k in l:\\n            p = getattr(m, k).parameters()\\n            if k in dont_train:\\n                g1 += p\\n            elif k in train:\\n                g2 += p\\n            else:\\n                for ll in m.children():\\n                    _crnn_splitter(ll, g1, g2)\\n        return g1, g2\\n\\n    return _crnn_splitter(m)\";\n",
       "                var nbb_cells = Jupyter.notebook.get_cells();\n",
       "                for (var i = 0; i < nbb_cells.length; ++i) {\n",
       "                    if (nbb_cells[i].input_prompt_number == nbb_cell_id) {\n",
       "                        if (nbb_cells[i].get_text() == nbb_unformatted_code) {\n",
       "                             nbb_cells[i].set_text(nbb_formatted_code);\n",
       "                        }\n",
       "                        break;\n",
       "                    }\n",
       "                }\n",
       "            }, 500);\n",
       "            "
      ],
      "text/plain": [
       "<IPython.core.display.Javascript object>"
      ]
     },
     "metadata": {},
     "output_type": "display_data"
    }
   ],
   "source": [
    "def crnn_splitter(m):\n",
    "    def _crnn_splitter(m, g1=[], g2=[]):\n",
    "        \"\"\"\n",
    "        g1 = trainable weights \n",
    "        g2 = group which get a learning rate of 0\n",
    "        \"\"\"\n",
    "        train = [\"fc1\", \"fc2\", \"fc3\", \"bn1\", \"bn2\", \"rnn_decoder\"]\n",
    "        dont_train = [\"resnet\"]\n",
    "        l = dict(m.named_children()).keys()\n",
    "        for k in l:\n",
    "            p = getattr(m, k).parameters()\n",
    "            if k in dont_train:\n",
    "                g1 += p\n",
    "            elif k in train:\n",
    "                g2 += p\n",
    "            else:\n",
    "                for ll in m.children():\n",
    "                    _crnn_splitter(ll, g1, g2)\n",
    "        return g1, g2\n",
    "\n",
    "    return _crnn_splitter(m)"
   ]
  },
  {
   "cell_type": "code",
   "execution_count": 17,
   "metadata": {
    "ExecuteTime": {
     "end_time": "2020-08-17T04:56:31.558672Z",
     "start_time": "2020-08-17T04:56:31.547023Z"
    }
   },
   "outputs": [
    {
     "data": {
      "application/javascript": [
       "\n",
       "            setTimeout(function() {\n",
       "                var nbb_cell_id = 17;\n",
       "                var nbb_unformatted_code = \"cbfs = [partial(AvgStatsCallback, [accuracy]), ProgressCallback, Recorder]\\ndisc_lr_sched = sched_1cycle([0, config.max_lr], config.phases)\\nif torch.cuda.is_available():\\n    cbfs.append(CudaCallback)\\ncbfs.append(\\n    partial(\\n        TrainStatsCallback, config.update_pct, email=None\\n    )  # (\\\"zodiac21zone\\\", \\\"devkosal@gmail.com\\\"))\\n)\";\n",
       "                var nbb_formatted_code = \"cbfs = [partial(AvgStatsCallback, [accuracy]), ProgressCallback, Recorder]\\ndisc_lr_sched = sched_1cycle([0, config.max_lr], config.phases)\\nif torch.cuda.is_available():\\n    cbfs.append(CudaCallback)\\ncbfs.append(\\n    partial(\\n        TrainStatsCallback, config.update_pct, email=None\\n    )  # (\\\"zodiac21zone\\\", \\\"devkosal@gmail.com\\\"))\\n)\";\n",
       "                var nbb_cells = Jupyter.notebook.get_cells();\n",
       "                for (var i = 0; i < nbb_cells.length; ++i) {\n",
       "                    if (nbb_cells[i].input_prompt_number == nbb_cell_id) {\n",
       "                        if (nbb_cells[i].get_text() == nbb_unformatted_code) {\n",
       "                             nbb_cells[i].set_text(nbb_formatted_code);\n",
       "                        }\n",
       "                        break;\n",
       "                    }\n",
       "                }\n",
       "            }, 500);\n",
       "            "
      ],
      "text/plain": [
       "<IPython.core.display.Javascript object>"
      ]
     },
     "metadata": {},
     "output_type": "display_data"
    }
   ],
   "source": [
    "cbfs = [partial(AvgStatsCallback, [accuracy]), ProgressCallback, Recorder]\n",
    "disc_lr_sched = sched_1cycle([0, config.max_lr], config.phases)\n",
    "if torch.cuda.is_available():\n",
    "    cbfs.append(CudaCallback)\n",
    "cbfs.append(\n",
    "    partial(\n",
    "        TrainStatsCallback, config.update_pct, email=None\n",
    "    )  # (\"zodiac21zone\", \"devkosal@gmail.com\"))\n",
    ")"
   ]
  },
  {
   "cell_type": "code",
   "execution_count": 38,
   "metadata": {
    "ExecuteTime": {
     "end_time": "2020-08-17T04:57:38.497459Z",
     "start_time": "2020-08-17T04:57:38.488179Z"
    }
   },
   "outputs": [
    {
     "data": {
      "application/javascript": [
       "\n",
       "            setTimeout(function() {\n",
       "                var nbb_cell_id = 38;\n",
       "                var nbb_unformatted_code = \"learn = Learner(\\n    model,\\n    data,\\n    F.cross_entropy,\\n    lr=config.max_lr,\\n    cb_funcs=cbfs,\\n    splitter=crnn_splitter,\\n    opt_func=adam_opt(),\\n)\";\n",
       "                var nbb_formatted_code = \"learn = Learner(\\n    model,\\n    data,\\n    F.cross_entropy,\\n    lr=config.max_lr,\\n    cb_funcs=cbfs,\\n    splitter=crnn_splitter,\\n    opt_func=adam_opt(),\\n)\";\n",
       "                var nbb_cells = Jupyter.notebook.get_cells();\n",
       "                for (var i = 0; i < nbb_cells.length; ++i) {\n",
       "                    if (nbb_cells[i].input_prompt_number == nbb_cell_id) {\n",
       "                        if (nbb_cells[i].get_text() == nbb_unformatted_code) {\n",
       "                             nbb_cells[i].set_text(nbb_formatted_code);\n",
       "                        }\n",
       "                        break;\n",
       "                    }\n",
       "                }\n",
       "            }, 500);\n",
       "            "
      ],
      "text/plain": [
       "<IPython.core.display.Javascript object>"
      ]
     },
     "metadata": {},
     "output_type": "display_data"
    }
   ],
   "source": [
    "learn = Learner(\n",
    "    model,\n",
    "    data,\n",
    "    F.cross_entropy,\n",
    "    lr=config.max_lr,\n",
    "    cb_funcs=cbfs,\n",
    "    splitter=crnn_splitter,\n",
    "    opt_func=adam_opt(),\n",
    ")"
   ]
  },
  {
   "cell_type": "code",
   "execution_count": 39,
   "metadata": {
    "ExecuteTime": {
     "end_time": "2020-08-17T04:57:38.862667Z",
     "start_time": "2020-08-17T04:57:38.857421Z"
    }
   },
   "outputs": [
    {
     "data": {
      "application/javascript": [
       "\n",
       "            setTimeout(function() {\n",
       "                var nbb_cell_id = 39;\n",
       "                var nbb_unformatted_code = \"# d1, d2 = crnn_splitter(model)\\n\\n# len(d2), len(d1)\\n\\n# from devai.utils.ml import CancelTrainException\\n\\n\\n# def _print_det(o):\\n#     print(\\n#         f\\\"len_param_groups={[len(o.opt.param_groups[i]) for i in range(len(o.opt.param_groups))]}, and {o.opt.hypers}\\\"\\n#     )\\n#     raise CancelTrainException()\\n\\n\\n# from types import SimpleNamespace\\n\\n# cb_types = SimpleNamespace(**{o: o for o in Learner.ALL_CBS})\\n# learn.fit(1, disc_lr_sched + [DebugCallback(cb_types.after_batch, _print_det)])\";\n",
       "                var nbb_formatted_code = \"# d1, d2 = crnn_splitter(model)\\n\\n# len(d2), len(d1)\\n\\n# from devai.utils.ml import CancelTrainException\\n\\n\\n# def _print_det(o):\\n#     print(\\n#         f\\\"len_param_groups={[len(o.opt.param_groups[i]) for i in range(len(o.opt.param_groups))]}, and {o.opt.hypers}\\\"\\n#     )\\n#     raise CancelTrainException()\\n\\n\\n# from types import SimpleNamespace\\n\\n# cb_types = SimpleNamespace(**{o: o for o in Learner.ALL_CBS})\\n# learn.fit(1, disc_lr_sched + [DebugCallback(cb_types.after_batch, _print_det)])\";\n",
       "                var nbb_cells = Jupyter.notebook.get_cells();\n",
       "                for (var i = 0; i < nbb_cells.length; ++i) {\n",
       "                    if (nbb_cells[i].input_prompt_number == nbb_cell_id) {\n",
       "                        if (nbb_cells[i].get_text() == nbb_unformatted_code) {\n",
       "                             nbb_cells[i].set_text(nbb_formatted_code);\n",
       "                        }\n",
       "                        break;\n",
       "                    }\n",
       "                }\n",
       "            }, 500);\n",
       "            "
      ],
      "text/plain": [
       "<IPython.core.display.Javascript object>"
      ]
     },
     "metadata": {},
     "output_type": "display_data"
    }
   ],
   "source": [
    "# d1, d2 = crnn_splitter(model)\n",
    "\n",
    "# len(d2), len(d1)\n",
    "\n",
    "# from devai.utils.ml import CancelTrainException\n",
    "\n",
    "\n",
    "# def _print_det(o):\n",
    "#     print(\n",
    "#         f\"len_param_groups={[len(o.opt.param_groups[i]) for i in range(len(o.opt.param_groups))]}, and {o.opt.hypers}\"\n",
    "#     )\n",
    "#     raise CancelTrainException()\n",
    "\n",
    "\n",
    "# from types import SimpleNamespace\n",
    "\n",
    "# cb_types = SimpleNamespace(**{o: o for o in Learner.ALL_CBS})\n",
    "# learn.fit(1, disc_lr_sched + [DebugCallback(cb_types.after_batch, _print_det)])"
   ]
  },
  {
   "cell_type": "code",
   "execution_count": 74,
   "metadata": {
    "ExecuteTime": {
     "end_time": "2020-08-17T05:23:43.618192Z",
     "start_time": "2020-08-17T05:23:43.406447Z"
    }
   },
   "outputs": [
    {
     "data": {
      "application/javascript": [
       "\n",
       "            setTimeout(function() {\n",
       "                var nbb_cell_id = 74;\n",
       "                var nbb_unformatted_code = \"if config.load_weights:\\n    st = torch.load(config.load_weights, map_location=torch.device(\\\"cpu\\\"))\\n    learn.model.load_state_dict(st)\";\n",
       "                var nbb_formatted_code = \"if config.load_weights:\\n    st = torch.load(config.load_weights, map_location=torch.device(\\\"cpu\\\"))\\n    learn.model.load_state_dict(st)\";\n",
       "                var nbb_cells = Jupyter.notebook.get_cells();\n",
       "                for (var i = 0; i < nbb_cells.length; ++i) {\n",
       "                    if (nbb_cells[i].input_prompt_number == nbb_cell_id) {\n",
       "                        if (nbb_cells[i].get_text() == nbb_unformatted_code) {\n",
       "                             nbb_cells[i].set_text(nbb_formatted_code);\n",
       "                        }\n",
       "                        break;\n",
       "                    }\n",
       "                }\n",
       "            }, 500);\n",
       "            "
      ],
      "text/plain": [
       "<IPython.core.display.Javascript object>"
      ]
     },
     "metadata": {},
     "output_type": "display_data"
    }
   ],
   "source": [
    "if config.load_weights:\n",
    "    st = torch.load(config.load_weights, map_location=torch.device(\"cpu\"))\n",
    "    learn.model.load_state_dict(st)"
   ]
  },
  {
   "cell_type": "code",
   "execution_count": 41,
   "metadata": {
    "ExecuteTime": {
     "end_time": "2020-08-17T04:57:39.559390Z",
     "start_time": "2020-08-17T04:57:39.552934Z"
    },
    "scrolled": false
   },
   "outputs": [
    {
     "data": {
      "application/javascript": [
       "\n",
       "            setTimeout(function() {\n",
       "                var nbb_cell_id = 41;\n",
       "                var nbb_unformatted_code = \"if config.do_train:\\n    learn.fit(config.epochs, cbs=disc_lr_sched)\";\n",
       "                var nbb_formatted_code = \"if config.do_train:\\n    learn.fit(config.epochs, cbs=disc_lr_sched)\";\n",
       "                var nbb_cells = Jupyter.notebook.get_cells();\n",
       "                for (var i = 0; i < nbb_cells.length; ++i) {\n",
       "                    if (nbb_cells[i].input_prompt_number == nbb_cell_id) {\n",
       "                        if (nbb_cells[i].get_text() == nbb_unformatted_code) {\n",
       "                             nbb_cells[i].set_text(nbb_formatted_code);\n",
       "                        }\n",
       "                        break;\n",
       "                    }\n",
       "                }\n",
       "            }, 500);\n",
       "            "
      ],
      "text/plain": [
       "<IPython.core.display.Javascript object>"
      ]
     },
     "metadata": {},
     "output_type": "display_data"
    }
   ],
   "source": [
    "if config.do_train:\n",
    "    learn.fit(config.epochs, cbs=disc_lr_sched)"
   ]
  },
  {
   "cell_type": "code",
   "execution_count": 42,
   "metadata": {
    "ExecuteTime": {
     "end_time": "2020-08-17T05:12:11.680156Z",
     "start_time": "2020-08-17T04:57:40.406152Z"
    }
   },
   "outputs": [
    {
     "name": "stderr",
     "output_type": "stream",
     "text": [
      "100%|██████████| 24/24 [14:31<00:00, 36.30s/it]\n"
     ]
    },
    {
     "data": {
      "application/javascript": [
       "\n",
       "            setTimeout(function() {\n",
       "                var nbb_cell_id = 42;\n",
       "                var nbb_unformatted_code = \"pred = learn.get_raw_preds(\\\"valid\\\")\";\n",
       "                var nbb_formatted_code = \"pred = learn.get_raw_preds(\\\"valid\\\")\";\n",
       "                var nbb_cells = Jupyter.notebook.get_cells();\n",
       "                for (var i = 0; i < nbb_cells.length; ++i) {\n",
       "                    if (nbb_cells[i].input_prompt_number == nbb_cell_id) {\n",
       "                        if (nbb_cells[i].get_text() == nbb_unformatted_code) {\n",
       "                             nbb_cells[i].set_text(nbb_formatted_code);\n",
       "                        }\n",
       "                        break;\n",
       "                    }\n",
       "                }\n",
       "            }, 500);\n",
       "            "
      ],
      "text/plain": [
       "<IPython.core.display.Javascript object>"
      ]
     },
     "metadata": {},
     "output_type": "display_data"
    }
   ],
   "source": [
    "pred = learn.get_raw_preds(\"valid\")"
   ]
  },
  {
   "cell_type": "code",
   "execution_count": 81,
   "metadata": {
    "ExecuteTime": {
     "end_time": "2020-08-17T05:41:18.487345Z",
     "start_time": "2020-08-17T05:41:18.482437Z"
    }
   },
   "outputs": [
    {
     "data": {
      "text/plain": [
       "399"
      ]
     },
     "execution_count": 81,
     "metadata": {},
     "output_type": "execute_result"
    },
    {
     "data": {
      "application/javascript": [
       "\n",
       "            setTimeout(function() {\n",
       "                var nbb_cell_id = 81;\n",
       "                var nbb_unformatted_code = \"len(data.valid_ds)\";\n",
       "                var nbb_formatted_code = \"len(data.valid_ds)\";\n",
       "                var nbb_cells = Jupyter.notebook.get_cells();\n",
       "                for (var i = 0; i < nbb_cells.length; ++i) {\n",
       "                    if (nbb_cells[i].input_prompt_number == nbb_cell_id) {\n",
       "                        if (nbb_cells[i].get_text() == nbb_unformatted_code) {\n",
       "                             nbb_cells[i].set_text(nbb_formatted_code);\n",
       "                        }\n",
       "                        break;\n",
       "                    }\n",
       "                }\n",
       "            }, 500);\n",
       "            "
      ],
      "text/plain": [
       "<IPython.core.display.Javascript object>"
      ]
     },
     "metadata": {},
     "output_type": "display_data"
    }
   ],
   "source": [
    "len(data.valid_ds)"
   ]
  },
  {
   "cell_type": "code",
   "execution_count": 46,
   "metadata": {
    "ExecuteTime": {
     "end_time": "2020-08-17T05:18:22.060489Z",
     "start_time": "2020-08-17T05:18:22.053347Z"
    }
   },
   "outputs": [
    {
     "data": {
      "text/plain": [
       "384"
      ]
     },
     "execution_count": 46,
     "metadata": {},
     "output_type": "execute_result"
    },
    {
     "data": {
      "application/javascript": [
       "\n",
       "            setTimeout(function() {\n",
       "                var nbb_cell_id = 46;\n",
       "                var nbb_unformatted_code = \"len(torch.cat(pred[1]))\";\n",
       "                var nbb_formatted_code = \"len(torch.cat(pred[1]))\";\n",
       "                var nbb_cells = Jupyter.notebook.get_cells();\n",
       "                for (var i = 0; i < nbb_cells.length; ++i) {\n",
       "                    if (nbb_cells[i].input_prompt_number == nbb_cell_id) {\n",
       "                        if (nbb_cells[i].get_text() == nbb_unformatted_code) {\n",
       "                             nbb_cells[i].set_text(nbb_formatted_code);\n",
       "                        }\n",
       "                        break;\n",
       "                    }\n",
       "                }\n",
       "            }, 500);\n",
       "            "
      ],
      "text/plain": [
       "<IPython.core.display.Javascript object>"
      ]
     },
     "metadata": {},
     "output_type": "display_data"
    }
   ],
   "source": [
    "len(torch.cat(pred[1]))"
   ]
  },
  {
   "cell_type": "code",
   "execution_count": 79,
   "metadata": {
    "ExecuteTime": {
     "end_time": "2020-08-17T05:26:26.028162Z",
     "start_time": "2020-08-17T05:26:26.019020Z"
    }
   },
   "outputs": [
    {
     "data": {
      "text/plain": [
       "tensor(0.6380)"
      ]
     },
     "execution_count": 79,
     "metadata": {},
     "output_type": "execute_result"
    },
    {
     "data": {
      "application/javascript": [
       "\n",
       "            setTimeout(function() {\n",
       "                var nbb_cell_id = 79;\n",
       "                var nbb_unformatted_code = \"(torch.argmax(torch.cat(pred[0]), 1) == torch.cat(pred[1])).float().mean()\";\n",
       "                var nbb_formatted_code = \"(torch.argmax(torch.cat(pred[0]), 1) == torch.cat(pred[1])).float().mean()\";\n",
       "                var nbb_cells = Jupyter.notebook.get_cells();\n",
       "                for (var i = 0; i < nbb_cells.length; ++i) {\n",
       "                    if (nbb_cells[i].input_prompt_number == nbb_cell_id) {\n",
       "                        if (nbb_cells[i].get_text() == nbb_unformatted_code) {\n",
       "                             nbb_cells[i].set_text(nbb_formatted_code);\n",
       "                        }\n",
       "                        break;\n",
       "                    }\n",
       "                }\n",
       "            }, 500);\n",
       "            "
      ],
      "text/plain": [
       "<IPython.core.display.Javascript object>"
      ]
     },
     "metadata": {},
     "output_type": "display_data"
    }
   ],
   "source": [
    "(torch.argmax(torch.cat(pred[0]), 1) == torch.cat(pred[1])).float().mean()"
   ]
  },
  {
   "cell_type": "code",
   "execution_count": 68,
   "metadata": {
    "ExecuteTime": {
     "end_time": "2020-08-17T05:21:55.647448Z",
     "start_time": "2020-08-17T05:21:55.637737Z"
    }
   },
   "outputs": [
    {
     "data": {
      "text/plain": [
       "tensor([1, 1, 0, 0, 0, 0, 0, 0, 0, 0, 0, 0, 1, 0, 0, 0, 1, 0, 0, 0, 1, 0, 0, 0,\n",
       "        0, 0, 0, 0, 0, 0, 0, 0, 1, 1, 1, 0, 1, 1, 1, 0, 0, 0, 0, 0, 0, 0, 0, 0,\n",
       "        1, 1, 1, 0, 0, 0, 0, 0, 0, 1, 0, 0, 0, 0, 1, 1, 0, 0, 1, 0, 0, 1, 1, 1,\n",
       "        0, 0, 0, 0, 0, 0, 0, 0, 0, 1, 1, 0, 1, 1, 1, 0, 0, 0, 0, 1, 0, 0, 0, 0,\n",
       "        0, 0, 0, 1, 0, 0, 0, 0, 0, 1, 0, 1, 0, 1, 0, 0, 0, 1, 1, 0, 0, 0, 0, 0,\n",
       "        0, 0, 0, 0, 1, 0, 1, 0, 0, 0, 0, 0, 0, 0, 1, 1, 0, 1, 1, 1, 1, 1, 1, 1,\n",
       "        0, 1, 0, 0, 0, 0, 0, 1, 0, 0, 0, 0, 0, 1, 0, 0, 1, 1, 0, 0, 1, 0, 1, 0,\n",
       "        1, 0, 1, 1, 1, 1, 0, 0, 1, 1, 1, 1, 1, 0, 1, 1, 1, 0, 0, 0, 0, 1, 0, 0,\n",
       "        0, 1, 1, 1, 0, 0, 1, 0, 1, 0, 1, 1, 0, 1, 1, 1, 0, 0, 1, 0, 0, 0, 1, 0,\n",
       "        1, 1, 1, 1, 1, 0, 0, 1, 1, 0, 0, 1, 0, 0, 1, 1, 0, 1, 1, 0, 0, 1, 1, 0,\n",
       "        0, 0, 0, 0, 1, 0, 0, 0, 0, 0, 0, 1, 0, 1, 1, 0, 1, 1, 1, 1, 0, 1, 1, 0,\n",
       "        0, 0, 0, 0, 0, 0, 0, 0, 0, 1, 1, 1, 1, 1, 1, 0, 0, 0, 0, 0, 0, 0, 0, 0,\n",
       "        0, 0, 0, 1, 0, 0, 1, 0, 1, 0, 1, 0, 1, 1, 0, 0, 0, 0, 0, 1, 1, 1, 1, 1,\n",
       "        0, 1, 1, 1, 0, 0, 1, 1, 0, 1, 0, 1, 1, 1, 1, 1, 1, 1, 0, 0, 0, 0, 0, 0,\n",
       "        0, 0, 0, 0, 1, 1, 0, 1, 0, 0, 0, 0, 1, 0, 1, 1, 0, 0, 0, 0, 1, 1, 0, 0,\n",
       "        0, 0, 0, 0, 1, 0, 1, 1, 0, 0, 0, 0, 1, 1, 1, 0, 0, 1, 1, 0, 0, 0, 1, 1])"
      ]
     },
     "execution_count": 68,
     "metadata": {},
     "output_type": "execute_result"
    },
    {
     "data": {
      "application/javascript": [
       "\n",
       "            setTimeout(function() {\n",
       "                var nbb_cell_id = 68;\n",
       "                var nbb_unformatted_code = \"torch.argmax(torch.cat(pred[0]), 1)\";\n",
       "                var nbb_formatted_code = \"torch.argmax(torch.cat(pred[0]), 1)\";\n",
       "                var nbb_cells = Jupyter.notebook.get_cells();\n",
       "                for (var i = 0; i < nbb_cells.length; ++i) {\n",
       "                    if (nbb_cells[i].input_prompt_number == nbb_cell_id) {\n",
       "                        if (nbb_cells[i].get_text() == nbb_unformatted_code) {\n",
       "                             nbb_cells[i].set_text(nbb_formatted_code);\n",
       "                        }\n",
       "                        break;\n",
       "                    }\n",
       "                }\n",
       "            }, 500);\n",
       "            "
      ],
      "text/plain": [
       "<IPython.core.display.Javascript object>"
      ]
     },
     "metadata": {},
     "output_type": "display_data"
    }
   ],
   "source": [
    "torch.argmax(torch.cat(pred[0]), 1)"
   ]
  },
  {
   "cell_type": "code",
   "execution_count": 82,
   "metadata": {
    "ExecuteTime": {
     "end_time": "2020-08-17T05:58:16.274275Z",
     "start_time": "2020-08-17T05:58:16.252034Z"
    }
   },
   "outputs": [
    {
     "data": {
      "application/javascript": [
       "\n",
       "            setTimeout(function() {\n",
       "                var nbb_cell_id = 82;\n",
       "                var nbb_unformatted_code = \"def get_acc_by_parent(pred):\\n    preds = torch.argmax(torch.cat(pred[0]), 1)\\n    actual = torch.cat(pred[1])\\n    types = [f.parent.parent.name for f in ll.valid.x.items[: len(preds)]]\\n    masks = {t: torch.tensor([n == t for n in types]) for t in set(types)}\\n    if torch.cuda.is_available():\\n        preds = preds.cuda()\\n        actual = actual.cuda()\\n    for k, m in masks.items():\\n        preds_k = preds.masked_select(m)\\n        actual_k = actual.masked_select(m)\\n        print(k, (preds_k == actual_k).float().mean())\";\n",
       "                var nbb_formatted_code = \"def get_acc_by_parent(pred):\\n    preds = torch.argmax(torch.cat(pred[0]), 1)\\n    actual = torch.cat(pred[1])\\n    types = [f.parent.parent.name for f in ll.valid.x.items[: len(preds)]]\\n    masks = {t: torch.tensor([n == t for n in types]) for t in set(types)}\\n    if torch.cuda.is_available():\\n        preds = preds.cuda()\\n        actual = actual.cuda()\\n    for k, m in masks.items():\\n        preds_k = preds.masked_select(m)\\n        actual_k = actual.masked_select(m)\\n        print(k, (preds_k == actual_k).float().mean())\";\n",
       "                var nbb_cells = Jupyter.notebook.get_cells();\n",
       "                for (var i = 0; i < nbb_cells.length; ++i) {\n",
       "                    if (nbb_cells[i].input_prompt_number == nbb_cell_id) {\n",
       "                        if (nbb_cells[i].get_text() == nbb_unformatted_code) {\n",
       "                             nbb_cells[i].set_text(nbb_formatted_code);\n",
       "                        }\n",
       "                        break;\n",
       "                    }\n",
       "                }\n",
       "            }, 500);\n",
       "            "
      ],
      "text/plain": [
       "<IPython.core.display.Javascript object>"
      ]
     },
     "metadata": {},
     "output_type": "display_data"
    }
   ],
   "source": [
    "def get_acc_by_parent(pred):\n",
    "    preds = torch.argmax(torch.cat(pred[0]), 1)\n",
    "    actual = torch.cat(pred[1])\n",
    "    types = [f.parent.parent.name for f in ll.valid.x.items[: len(preds)]]\n",
    "    masks = {t: torch.tensor([n == t for n in types]) for t in set(types)}\n",
    "    if torch.cuda.is_available():\n",
    "        preds = preds.cuda()\n",
    "        actual = actual.cuda()\n",
    "    for k, m in masks.items():\n",
    "        preds_k = preds.masked_select(m)\n",
    "        actual_k = actual.masked_select(m)\n",
    "        print(k, (preds_k == actual_k).float().mean())"
   ]
  },
  {
   "cell_type": "code",
   "execution_count": 83,
   "metadata": {
    "ExecuteTime": {
     "end_time": "2020-08-17T05:58:20.555103Z",
     "start_time": "2020-08-17T05:58:20.545135Z"
    }
   },
   "outputs": [
    {
     "name": "stdout",
     "output_type": "stream",
     "text": [
      "movies tensor(0.7692)\n",
      "surv tensor(0.6481)\n",
      "hockey tensor(0.6115)\n"
     ]
    },
    {
     "data": {
      "application/javascript": [
       "\n",
       "            setTimeout(function() {\n",
       "                var nbb_cell_id = 83;\n",
       "                var nbb_unformatted_code = \"get_acc_by_parent(pred)\";\n",
       "                var nbb_formatted_code = \"get_acc_by_parent(pred)\";\n",
       "                var nbb_cells = Jupyter.notebook.get_cells();\n",
       "                for (var i = 0; i < nbb_cells.length; ++i) {\n",
       "                    if (nbb_cells[i].input_prompt_number == nbb_cell_id) {\n",
       "                        if (nbb_cells[i].get_text() == nbb_unformatted_code) {\n",
       "                             nbb_cells[i].set_text(nbb_formatted_code);\n",
       "                        }\n",
       "                        break;\n",
       "                    }\n",
       "                }\n",
       "            }, 500);\n",
       "            "
      ],
      "text/plain": [
       "<IPython.core.display.Javascript object>"
      ]
     },
     "metadata": {},
     "output_type": "display_data"
    }
   ],
   "source": [
    "get_acc_by_parent(pred)"
   ]
  },
  {
   "cell_type": "code",
   "execution_count": null,
   "metadata": {},
   "outputs": [],
   "source": []
  }
 ],
 "metadata": {
  "kernelspec": {
   "display_name": "Python (fastai2)",
   "language": "python",
   "name": "fastai2"
  },
  "language_info": {
   "codemirror_mode": {
    "name": "ipython",
    "version": 3
   },
   "file_extension": ".py",
   "mimetype": "text/x-python",
   "name": "python",
   "nbconvert_exporter": "python",
   "pygments_lexer": "ipython3",
   "version": "3.7.7"
  }
 },
 "nbformat": 4,
 "nbformat_minor": 4
}
